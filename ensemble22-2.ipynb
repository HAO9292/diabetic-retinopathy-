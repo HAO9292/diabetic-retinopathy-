{
 "cells": [
  {
   "cell_type": "code",
   "execution_count": 1,
   "metadata": {},
   "outputs": [
    {
     "name": "stderr",
     "output_type": "stream",
     "text": [
      "Using TensorFlow backend.\n"
     ]
    }
   ],
   "source": [
    "import keras\n",
    "from keras.models import Model,load_model\n",
    "from keras import Input\n",
    "from keras.layers import concatenate,Dense,Flatten,Dropout\n",
    "from keras.preprocessing.image import  ImageDataGenerator\n",
    "import keras.callbacks as kcallbacks\n",
    "import os\n",
    "import math\n",
    "from keras.utils import plot_model\n",
    "from keras.callbacks import EarlyStopping, ReduceLROnPlateau, ModelCheckpoint, LearningRateScheduler\n",
    "from keras.optimizers import SGD"
   ]
  },
  {
   "cell_type": "code",
   "execution_count": 2,
   "metadata": {},
   "outputs": [],
   "source": [
    "#写一个LossHistory类，保存loss和acc\n",
    "class LossHistory(keras.callbacks.Callback):\n",
    "    def on_train_begin(self, logs={}):\n",
    "        self.losses = {'batch':[], 'epoch':[]}\n",
    "        self.accuracy = {'batch':[], 'epoch':[]}\n",
    "        self.val_loss = {'batch':[], 'epoch':[]}\n",
    "        self.val_acc = {'batch':[], 'epoch':[]}\n",
    "    def on_batch_end(self, batch, logs={}):\n",
    "        self.losses['batch'].append(logs.get('loss'))\n",
    "        self.accuracy['batch'].append(logs.get('acc'))\n",
    "        self.val_loss['batch'].append(logs.get('val_loss'))\n",
    "        self.val_acc['batch'].append(logs.get('val_acc'))\n",
    "    def on_epoch_end(self, batch, logs={}):\n",
    "        self.losses['epoch'].append(logs.get('loss'))\n",
    "        self.accuracy['epoch'].append(logs.get('acc'))\n",
    "        self.val_loss['epoch'].append(logs.get('val_loss'))\n",
    "        self.val_acc['epoch'].append(logs.get('val_acc'))\n",
    "    def loss_plot(self, loss_type):\n",
    "        iters = range(len(self.losses[loss_type]))\n",
    "        plt.figure()\n",
    "        plt.plot(iters, self.losses[loss_type], 'g', label='train loss')\n",
    "        if loss_type == 'epoch':\n",
    "            # acc\n",
    "            plt.plot(iters, self.accuracy[loss_type], 'r', label='train acc')\n",
    "            # loss\n",
    "            plt.plot(iters, self.losses[loss_type], 'g', label='train loss')\n",
    "            # val_acc\n",
    "            plt.plot(iters, self.val_acc[loss_type], 'b', label='val acc')\n",
    "            # val_loss\n",
    "            plt.plot(iters, self.val_loss[loss_type], 'k', label='val loss')\n",
    "        plt.grid(True)\n",
    "        plt.xlabel(loss_type)\n",
    "        plt.ylabel('acc-loss')\n",
    "        plt.legend(loc=\"upper right\")\n",
    "        plt.show()"
   ]
  },
  {
   "cell_type": "code",
   "execution_count": 3,
   "metadata": {},
   "outputs": [],
   "source": [
    "###########配置的文件####################\n",
    "TARGET_SIZE=(512,512)\n",
    "INPUT_SIZE=(512,512,3)\n",
    "BATCHSIZE=16"
   ]
  },
  {
   "cell_type": "code",
   "execution_count": 4,
   "metadata": {},
   "outputs": [
    {
     "name": "stdout",
     "output_type": "stream",
     "text": [
      "Found 49658 images belonging to 5 classes.\n",
      "Found 10000 images belonging to 5 classes.\n",
      "样本0的数量是21534\n",
      "样本1的数量是7891\n",
      "样本2的数量是9752\n",
      "样本3的数量是5644\n",
      "样本4的数量是4837\n"
     ]
    }
   ],
   "source": [
    "##################################\n",
    "train_datagen = ImageDataGenerator(rescale=1./255)\n",
    "\n",
    "test_datagen = ImageDataGenerator(rescale=1./255)\n",
    "\n",
    "train_generator = train_datagen.flow_from_directory(\n",
    "        './train/',\n",
    "        target_size=TARGET_SIZE,\n",
    "        batch_size=BATCHSIZE,\n",
    "        class_mode='categorical')\n",
    "validation_generator = test_datagen.flow_from_directory(\n",
    "        './test/',\n",
    "        target_size=TARGET_SIZE,\n",
    "        batch_size=BATCHSIZE,\n",
    "        class_mode='categorical')\n",
    "\n",
    "print('样本0的数量是%s'%len(os.listdir('./train/0')))\n",
    "print('样本1的数量是%s'%len(os.listdir('./train/1')))\n",
    "print('样本2的数量是%s'%len(os.listdir('./train/2')))\n",
    "print('样本3的数量是%s'%len(os.listdir('./train/3')))\n",
    "print('样本4的数量是%s'%len(os.listdir('./train/4')))"
   ]
  },
  {
   "cell_type": "code",
   "execution_count": 5,
   "metadata": {},
   "outputs": [],
   "source": [
    "#载入自己的模型\n",
    "my_model=load_model('./mymodel.h5')\n",
    "my_model=Model(inputs=my_model.input,outputs=my_model.get_layer('dense_2').output,name='own_network')"
   ]
  },
  {
   "cell_type": "code",
   "execution_count": 6,
   "metadata": {
    "scrolled": true
   },
   "outputs": [],
   "source": [
    "#载入训练好的inceptionv3\n",
    "inception_model=load_model('./inception.h5')\n",
    "inception_model=Model(inputs=inception_model.input,outputs=inception_model.get_layer('dense_1').output,name='inceptionv3')"
   ]
  },
  {
   "cell_type": "code",
   "execution_count": 7,
   "metadata": {},
   "outputs": [],
   "source": [
    "#载入训练好的resnet-50\n",
    "resnet_model=load_model('./resnet.h5')\n",
    "resnet_model=Model(inputs=resnet_model.input,outputs=resnet_model.get_layer('dense_2').output,name='resnet')"
   ]
  },
  {
   "cell_type": "code",
   "execution_count": 8,
   "metadata": {},
   "outputs": [
    {
     "name": "stdout",
     "output_type": "stream",
     "text": [
      "0 input_2\n",
      "1 conv1\n",
      "2 bn_conv1\n",
      "3 activation_50\n",
      "4 max_pooling2d_7\n",
      "5 res2a_branch2a\n",
      "6 bn2a_branch2a\n",
      "7 activation_51\n",
      "8 res2a_branch2b\n",
      "9 bn2a_branch2b\n",
      "10 activation_52\n",
      "11 res2a_branch2c\n",
      "12 res2a_branch1\n",
      "13 bn2a_branch2c\n",
      "14 bn2a_branch1\n",
      "15 add_17\n",
      "16 activation_53\n",
      "17 res2b_branch2a\n",
      "18 bn2b_branch2a\n",
      "19 activation_54\n",
      "20 res2b_branch2b\n",
      "21 bn2b_branch2b\n",
      "22 activation_55\n",
      "23 res2b_branch2c\n",
      "24 bn2b_branch2c\n",
      "25 add_18\n",
      "26 activation_56\n",
      "27 res2c_branch2a\n",
      "28 bn2c_branch2a\n",
      "29 activation_57\n",
      "30 res2c_branch2b\n",
      "31 bn2c_branch2b\n",
      "32 activation_58\n",
      "33 res2c_branch2c\n",
      "34 bn2c_branch2c\n",
      "35 add_19\n",
      "36 activation_59\n",
      "37 res3a_branch2a\n",
      "38 bn3a_branch2a\n",
      "39 activation_60\n",
      "40 res3a_branch2b\n",
      "41 bn3a_branch2b\n",
      "42 activation_61\n",
      "43 res3a_branch2c\n",
      "44 res3a_branch1\n",
      "45 bn3a_branch2c\n",
      "46 bn3a_branch1\n",
      "47 add_20\n",
      "48 activation_62\n",
      "49 res3b_branch2a\n",
      "50 bn3b_branch2a\n",
      "51 activation_63\n",
      "52 res3b_branch2b\n",
      "53 bn3b_branch2b\n",
      "54 activation_64\n",
      "55 res3b_branch2c\n",
      "56 bn3b_branch2c\n",
      "57 add_21\n",
      "58 activation_65\n",
      "59 res3c_branch2a\n",
      "60 bn3c_branch2a\n",
      "61 activation_66\n",
      "62 res3c_branch2b\n",
      "63 bn3c_branch2b\n",
      "64 activation_67\n",
      "65 res3c_branch2c\n",
      "66 bn3c_branch2c\n",
      "67 add_22\n",
      "68 activation_68\n",
      "69 res3d_branch2a\n",
      "70 bn3d_branch2a\n",
      "71 activation_69\n",
      "72 res3d_branch2b\n",
      "73 bn3d_branch2b\n",
      "74 activation_70\n",
      "75 res3d_branch2c\n",
      "76 bn3d_branch2c\n",
      "77 add_23\n",
      "78 activation_71\n",
      "79 res4a_branch2a\n",
      "80 bn4a_branch2a\n",
      "81 activation_72\n",
      "82 res4a_branch2b\n",
      "83 bn4a_branch2b\n",
      "84 activation_73\n",
      "85 res4a_branch2c\n",
      "86 res4a_branch1\n",
      "87 bn4a_branch2c\n",
      "88 bn4a_branch1\n",
      "89 add_24\n",
      "90 activation_74\n",
      "91 res4b_branch2a\n",
      "92 bn4b_branch2a\n",
      "93 activation_75\n",
      "94 res4b_branch2b\n",
      "95 bn4b_branch2b\n",
      "96 activation_76\n",
      "97 res4b_branch2c\n",
      "98 bn4b_branch2c\n",
      "99 add_25\n",
      "100 activation_77\n",
      "101 res4c_branch2a\n",
      "102 bn4c_branch2a\n",
      "103 activation_78\n",
      "104 res4c_branch2b\n",
      "105 bn4c_branch2b\n",
      "106 activation_79\n",
      "107 res4c_branch2c\n",
      "108 bn4c_branch2c\n",
      "109 add_26\n",
      "110 activation_80\n",
      "111 res4d_branch2a\n",
      "112 bn4d_branch2a\n",
      "113 activation_81\n",
      "114 res4d_branch2b\n",
      "115 bn4d_branch2b\n",
      "116 activation_82\n",
      "117 res4d_branch2c\n",
      "118 bn4d_branch2c\n",
      "119 add_27\n",
      "120 activation_83\n",
      "121 res4e_branch2a\n",
      "122 bn4e_branch2a\n",
      "123 activation_84\n",
      "124 res4e_branch2b\n",
      "125 bn4e_branch2b\n",
      "126 activation_85\n",
      "127 res4e_branch2c\n",
      "128 bn4e_branch2c\n",
      "129 add_28\n",
      "130 activation_86\n",
      "131 res4f_branch2a\n",
      "132 bn4f_branch2a\n",
      "133 activation_87\n",
      "134 res4f_branch2b\n",
      "135 bn4f_branch2b\n",
      "136 activation_88\n",
      "137 res4f_branch2c\n",
      "138 bn4f_branch2c\n",
      "139 add_29\n",
      "140 activation_89\n",
      "141 res5a_branch2a\n",
      "142 bn5a_branch2a\n",
      "143 activation_90\n",
      "144 res5a_branch2b\n",
      "145 bn5a_branch2b\n",
      "146 activation_91\n",
      "147 res5a_branch2c\n",
      "148 res5a_branch1\n",
      "149 bn5a_branch2c\n",
      "150 bn5a_branch1\n",
      "151 add_30\n",
      "152 activation_92\n",
      "153 res5b_branch2a\n",
      "154 bn5b_branch2a\n",
      "155 activation_93\n",
      "156 res5b_branch2b\n",
      "157 bn5b_branch2b\n",
      "158 activation_94\n",
      "159 res5b_branch2c\n",
      "160 bn5b_branch2c\n",
      "161 add_31\n",
      "162 activation_95\n",
      "163 res5c_branch2a\n",
      "164 bn5c_branch2a\n",
      "165 activation_96\n",
      "166 res5c_branch2b\n",
      "167 bn5c_branch2b\n",
      "168 activation_97\n",
      "169 res5c_branch2c\n",
      "170 bn5c_branch2c\n",
      "171 add_32\n",
      "172 activation_98\n",
      "173 avg_pool\n",
      "174 global_average_pooling2d_1\n",
      "175 dense_2\n"
     ]
    }
   ],
   "source": [
    "for i,layer in enumerate(resnet_model.layers):\n",
    "    print(i,layer.name)"
   ]
  },
  {
   "cell_type": "code",
   "execution_count": 9,
   "metadata": {},
   "outputs": [],
   "source": [
    "#创建一个实例来存储history\n",
    "ensemble_history= LossHistory()"
   ]
  },
  {
   "cell_type": "code",
   "execution_count": 10,
   "metadata": {},
   "outputs": [],
   "source": [
    "def lr_decay(epoch):\n",
    "    lrs = [0.001, 0.001, 0.001, 0.001, 0.001, 0.001, 0.001, 0.0001,0.00001,0.000001,\n",
    "           0.000001,0.000001,0.000001,0.000001,0.0000001,0.0000001,0.0000001,0.0000001,0.0000001,0.0000001\n",
    "          ]\n",
    "    return lrs[epoch]"
   ]
  },
  {
   "cell_type": "code",
   "execution_count": 11,
   "metadata": {},
   "outputs": [],
   "source": [
    "auto_lr = ReduceLROnPlateau(monitor='val_loss', factor=0.1, patience=1, verbose=0, mode='auto', epsilon=0.0001, cooldown=0, min_lr=0)\n",
    "my_lr = LearningRateScheduler(lr_decay)"
   ]
  },
  {
   "cell_type": "code",
   "execution_count": 12,
   "metadata": {},
   "outputs": [],
   "source": [
    "def ensemble(input_shape,num_class,epochs,savepath='./ensemble.h5'):\n",
    "    img=Input(shape=(512,512,3),name='img')\n",
    "    feature1=my_model(img)\n",
    "    feature2=inception_model(img)\n",
    "    for layer in inception_model.layers[:300]:  \n",
    "        layer.trainable = False \n",
    "    for layer in inception_model.layers[300:]:  \n",
    "        layer.trainable = True  \n",
    "    feature3=resnet_model(img)\n",
    "    for layer in resnet_model.layers[:170]:  \n",
    "        layer.trainable = False \n",
    "    for layer in resnet_model.layers[170:]:  \n",
    "        layer.trainable = True  \n",
    "    x=concatenate([feature1,feature2,feature3])\n",
    "    x=Dropout(0.5)(x)\n",
    "    x=Dense(64,activation='relu')(x)\n",
    "    x=Dropout(0.25)(x)\n",
    "    output=Dense(5,activation='softmax',name='output')(x)\n",
    "    model=Model(inputs=img,outputs=output)\n",
    "    plot_model(model=model,to_file='./ensemble.jpg')\n",
    "    #定义一下优化的方法\n",
    "    opt = keras.optimizers.Adam(lr=0.001, beta_1=0.9, beta_2=0.999, epsilon=1e-08)\n",
    "    model.compile(loss='categorical_crossentropy',\\\n",
    "#                   optimizer=SGD(lr=0.001, momentum=0.9),\n",
    "                  optimizer=opt,\n",
    "                  metrics=['accuracy'])\n",
    "    #train model\n",
    "    earlyStopping=kcallbacks.EarlyStopping(monitor='val_acc',patience=3, verbose=1, mode='auto')\n",
    "    saveBestModel = kcallbacks.ModelCheckpoint(filepath=savepath, monitor='val_loss', verbose=1, save_best_only=True, mode='auto')\n",
    "    #     model_vgg19_clair.fit(X_train_vgg,y_train,batch_size=batchsize,epochs=epochs,verbose=1,\n",
    "    #               validation_data=(X_test_vgg,y_test),shuffle=True,callbacks=[earlyStopping,saveBestModel])\n",
    "    hist=model.fit_generator(\n",
    "    train_generator,\n",
    "    steps_per_epoch=math.ceil(49658/BATCHSIZE),\n",
    "    epochs=epochs,\n",
    "    validation_data=validation_generator,\n",
    "    validation_steps=math.ceil(10000/BATCHSIZE),\n",
    "    callbacks=[earlyStopping,saveBestModel,ensemble_history,auto_lr],\n",
    "    workers=8\n",
    "    )\n",
    "    with open('ensemble.txt','w') as f:\n",
    "        f.write(str(hist.history))"
   ]
  },
  {
   "cell_type": "code",
   "execution_count": 13,
   "metadata": {},
   "outputs": [
    {
     "name": "stdout",
     "output_type": "stream",
     "text": [
      "Epoch 1/20\n",
      "3103/3104 [============================>.] - ETA: 0s - loss: 0.6310 - acc: 0.7708Epoch 00001: val_loss improved from inf to 0.61170, saving model to ./ensemble.h5\n",
      "3104/3104 [==============================] - 3401s 1s/step - loss: 0.6309 - acc: 0.7708 - val_loss: 0.6117 - val_acc: 0.7715\n",
      "Epoch 2/20\n",
      "3103/3104 [============================>.] - ETA: 0s - loss: 0.5644 - acc: 0.7938Epoch 00002: val_loss improved from 0.61170 to 0.60104, saving model to ./ensemble.h5\n",
      "3104/3104 [==============================] - 3397s 1s/step - loss: 0.5644 - acc: 0.7938 - val_loss: 0.6010 - val_acc: 0.7715\n",
      "Epoch 3/20\n",
      "3103/3104 [============================>.] - ETA: 0s - loss: 0.5520 - acc: 0.7982Epoch 00003: val_loss improved from 0.60104 to 0.59749, saving model to ./ensemble.h5\n",
      "3104/3104 [==============================] - 3397s 1s/step - loss: 0.5520 - acc: 0.7982 - val_loss: 0.5975 - val_acc: 0.7748\n",
      "Epoch 4/20\n",
      "3103/3104 [============================>.] - ETA: 0s - loss: 0.5377 - acc: 0.8038Epoch 00004: val_loss did not improve\n",
      "3104/3104 [==============================] - 3397s 1s/step - loss: 0.5376 - acc: 0.8038 - val_loss: 0.6243 - val_acc: 0.7680\n",
      "Epoch 5/20\n",
      "3103/3104 [============================>.] - ETA: 0s - loss: 0.5379 - acc: 0.8028Epoch 00005: val_loss did not improve\n",
      "3104/3104 [==============================] - 3397s 1s/step - loss: 0.5379 - acc: 0.8028 - val_loss: 0.6407 - val_acc: 0.7690\n",
      "Epoch 6/20\n",
      "3103/3104 [============================>.] - ETA: 0s - loss: 0.5047 - acc: 0.8161Epoch 00006: val_loss improved from 0.59749 to 0.59550, saving model to ./ensemble.h5\n",
      "3104/3104 [==============================] - 3397s 1s/step - loss: 0.5046 - acc: 0.8162 - val_loss: 0.5955 - val_acc: 0.7759\n",
      "Epoch 7/20\n",
      "3103/3104 [============================>.] - ETA: 0s - loss: 0.4930 - acc: 0.8199Epoch 00007: val_loss improved from 0.59550 to 0.59121, saving model to ./ensemble.h5\n",
      "3104/3104 [==============================] - 3399s 1s/step - loss: 0.4931 - acc: 0.8198 - val_loss: 0.5912 - val_acc: 0.7793\n",
      "Epoch 8/20\n",
      "3103/3104 [============================>.] - ETA: 0s - loss: 0.4909 - acc: 0.8213Epoch 00008: val_loss did not improve\n",
      "3104/3104 [==============================] - 3397s 1s/step - loss: 0.4909 - acc: 0.8213 - val_loss: 0.5926 - val_acc: 0.7803\n",
      "Epoch 9/20\n",
      "3103/3104 [============================>.] - ETA: 0s - loss: 0.4896 - acc: 0.8202Epoch 00009: val_loss improved from 0.59121 to 0.58880, saving model to ./ensemble.h5\n",
      "3104/3104 [==============================] - 3398s 1s/step - loss: 0.4897 - acc: 0.8202 - val_loss: 0.5888 - val_acc: 0.7817\n",
      "Epoch 10/20\n",
      "3103/3104 [============================>.] - ETA: 0s - loss: 0.4871 - acc: 0.8206Epoch 00010: val_loss did not improve\n",
      "3104/3104 [==============================] - 3398s 1s/step - loss: 0.4872 - acc: 0.8206 - val_loss: 0.5944 - val_acc: 0.7784\n",
      "Epoch 11/20\n",
      "3103/3104 [============================>.] - ETA: 0s - loss: 0.4834 - acc: 0.8217Epoch 00011: val_loss did not improve\n",
      "3104/3104 [==============================] - 3397s 1s/step - loss: 0.4834 - acc: 0.8216 - val_loss: 0.5936 - val_acc: 0.7788\n",
      "Epoch 12/20\n",
      "3103/3104 [============================>.] - ETA: 0s - loss: 0.4785 - acc: 0.8248Epoch 00012: val_loss did not improve\n",
      "3104/3104 [==============================] - 3398s 1s/step - loss: 0.4784 - acc: 0.8248 - val_loss: 0.5948 - val_acc: 0.7792\n",
      "Epoch 00012: early stopping\n"
     ]
    }
   ],
   "source": [
    "ensemble_model=ensemble(INPUT_SIZE,num_class=5,epochs=20)"
   ]
  },
  {
   "cell_type": "code",
   "execution_count": 15,
   "metadata": {},
   "outputs": [
    {
     "data": {
      "image/png": "[encoded data removed]",
      "text/plain": [
       "<Figure size 432x288 with 1 Axes>"
      ]
     },
     "metadata": {},
     "output_type": "display_data"
    },
    {
     "data": {
      "image/png": "[encoded data removed]",
      "text/plain": [
       "<Figure size 432x288 with 1 Axes>"
      ]
     },
     "metadata": {},
     "output_type": "display_data"
    }
   ],
   "source": [
    "import matplotlib.pyplot as plt\n",
    "import pickle\n",
    "to_save={}\n",
    "to_save['losses']=ensemble_history.losses\n",
    "to_save['accuracy']=ensemble_history.accuracy\n",
    "to_save['val_loss']=ensemble_history.val_loss\n",
    "to_save['val_acc']=ensemble_history.val_acc\n",
    "with open('ensemble_history.pickle','wb') as f:\n",
    "    pickle.dump(to_save,f)\n",
    "ensemble_history.loss_plot('epoch')\n",
    "ensemble_history.loss_plot('batch')\n",
    "plt.show()"
   ]
  },
  {
   "cell_type": "markdown",
   "metadata": {},
   "source": [
    "# 采用bagging的方法"
   ]
  },
  {
   "cell_type": "code",
   "execution_count": 22,
   "metadata": {},
   "outputs": [],
   "source": [
    "import keras\n",
    "from keras.models import Model,load_model\n",
    "from keras import Input\n",
    "from keras.layers import concatenate,Dense,Flatten,Dropout\n",
    "from keras.preprocessing.image import  ImageDataGenerator\n",
    "import keras.callbacks as kcallbacks\n",
    "import os\n",
    "import math\n",
    "from keras.utils import plot_model\n",
    "from keras.callbacks import EarlyStopping, ReduceLROnPlateau, ModelCheckpoint, LearningRateScheduler\n",
    "from keras.optimizers import SGD\n",
    "import operator\n",
    "import numpy as np\n",
    "from PIL import Image\n",
    "from collections import defaultdict"
   ]
  },
  {
   "cell_type": "code",
   "execution_count": 7,
   "metadata": {},
   "outputs": [
    {
     "name": "stdout",
     "output_type": "stream",
     "text": [
      "Found 49658 images belonging to 5 classes.\n",
      "Found 10000 images belonging to 5 classes.\n"
     ]
    }
   ],
   "source": [
    "###########配置的文件####################\n",
    "TARGET_SIZE=(512,512)\n",
    "INPUT_SIZE=(512,512,3)\n",
    "BATCHSIZE=16\n",
    "##################################\n",
    "train_datagen = ImageDataGenerator(rescale=1./255)\n",
    "\n",
    "test_datagen = ImageDataGenerator(rescale=1./255)\n",
    "\n",
    "train_generator = train_datagen.flow_from_directory(\n",
    "        './train/',\n",
    "        target_size=TARGET_SIZE,\n",
    "        batch_size=BATCHSIZE,\n",
    "        class_mode='categorical')\n",
    "validation_generator = test_datagen.flow_from_directory(\n",
    "        './test/',\n",
    "        target_size=TARGET_SIZE,\n",
    "        batch_size=BATCHSIZE,\n",
    "        class_mode='categorical')"
   ]
  },
  {
   "cell_type": "code",
   "execution_count": 2,
   "metadata": {},
   "outputs": [],
   "source": [
    "#载入自己的模型\n",
    "my_model=load_model('./mymodel.h5')"
   ]
  },
  {
   "cell_type": "code",
   "execution_count": 3,
   "metadata": {},
   "outputs": [],
   "source": [
    "#载入训练好的inceptionv3\n",
    "inception_model=load_model('./inception.h5')"
   ]
  },
  {
   "cell_type": "code",
   "execution_count": 4,
   "metadata": {},
   "outputs": [],
   "source": [
    "#载入训练好的resnet-50\n",
    "resnet_model=load_model('./resnet.h5')"
   ]
  },
  {
   "cell_type": "code",
   "execution_count": 8,
   "metadata": {},
   "outputs": [],
   "source": [
    "mapdict=train_generator.class_indices\n",
    "mapdict={v: k for k, v in mapdict.items()}"
   ]
  },
  {
   "cell_type": "code",
   "execution_count": 9,
   "metadata": {},
   "outputs": [
    {
     "name": "stdout",
     "output_type": "stream",
     "text": [
      "{0: '0', 1: '1', 2: '2', 3: '3', 4: '4'}\n"
     ]
    }
   ],
   "source": [
    "print(mapdict)"
   ]
  },
  {
   "cell_type": "code",
   "execution_count": 19,
   "metadata": {},
   "outputs": [],
   "source": [
    "rootdir = './test/'\n",
    "test_laels = []\n",
    "test_images=[]\n",
    "for subdir, dirs, files in os.walk(rootdir):\n",
    "    for file in files:\n",
    "        if not file.endswith(\".jpeg\"):\n",
    "            continue\n",
    "        test_laels.append(subdir.split('/')[-1])\n",
    "        test_images.append(os.path.join(subdir, file))"
   ]
  },
  {
   "cell_type": "code",
   "execution_count": 45,
   "metadata": {},
   "outputs": [
    {
     "name": "stdout",
     "output_type": "stream",
     "text": [
      "2 ./test/2/enhance_0_6030.jpeg\n"
     ]
    }
   ],
   "source": [
    "print(test_laels[0],test_images[0])"
   ]
  },
  {
   "cell_type": "code",
   "execution_count": 48,
   "metadata": {},
   "outputs": [],
   "source": [
    "predict=[]\n",
    "length=len(test_images)\n",
    "for i in range((length//64)+1):\n",
    "    inputimg=test_images[64*i:64*(i+1)]\n",
    "    test_batch=[]\n",
    "    for path in inputimg:\n",
    "        thisimg=np.array(Image.open(path))/255\n",
    "        test_batch.append(thisimg)\n",
    "    # my_model预测出结果\n",
    "    my_model_batch=my_model.predict(np.array(test_batch))\n",
    "    #64*5，predict就是直接返回当前模型的预测结构，是个五维度向量，一共六十四个\n",
    "    my_model_batch=list(np.argmax(my_model_batch,axis=1))\n",
    "    my_model_batch=[mapdict[con] for con in my_model_batch]\n",
    "#     print(my_model_batch)\n",
    "    #inceptionv3预测出结果\n",
    "    inception_model_batch=inception_model.predict(np.array(test_batch))\n",
    "    inception_model_batch=list(np.argmax(inception_model_batch,axis=1))\n",
    "    inception_model_batch=[mapdict[con] for con in inception_model_batch]\n",
    "#     print(inception_model_batch)\n",
    "    #resnet预测出的结果\n",
    "    resnet_model_batch=resnet_model.predict(np.array(test_batch))\n",
    "    resnet_model_batch=list(np.argmax(resnet_model_batch,axis=1))\n",
    "    resnet_model_batch=[mapdict[con] for con in resnet_model_batch]\n",
    "#     print(resnet_model_batch)\n",
    "    #接下来将三个预测的结果bagging\n",
    "    predict_batch=[]\n",
    "    for i,j,k in zip(my_model_batch,inception_model_batch,resnet_model_batch):\n",
    "        count=defaultdict(int)\n",
    "        count[i]+=1\n",
    "        count[j]+=1\n",
    "        count[k]+=1\n",
    "        #将预测结果降序排列# 出现的结果按个数排序\n",
    "        predict_one=sorted(count.items(), key=operator.itemgetter(1),reverse=True)[0][0]\n",
    "        predict_batch.append(predict_one)\n",
    "#     print('predict:',predict_batch)\n",
    "    predict.append(predict_batch)"
   ]
  },
  {
   "cell_type": "code",
   "execution_count": 42,
   "metadata": {},
   "outputs": [],
   "source": [
    "predict=sum(predict,[]) \n",
    "# 是列表，predict，求和列表；多维度转换一维度列表。"
   ]
  },
  {
   "cell_type": "code",
   "execution_count": 43,
   "metadata": {},
   "outputs": [
    {
     "name": "stdout",
     "output_type": "stream",
     "text": [
      "['1', '1', '2', '2', '2', '0', '0', '2', '1', '2', '1', '2', '2', '2', '2', '2', '2', '0', '2', '2', '3', '0', '2', '2', '0', '0', '2', '0', '2', '1', '3', '2', '3', '2', '1', '0', '2', '2', '1', '2', '0', '2', '4', '2', '2', '1', '2', '0', '2', '3', '2', '2', '3', '3', '0', '1', '2', '0', '1', '2', '0', '2', '1', '2', '0', '0', '2', '2', '1', '2', '4', '2', '2', '2', '2', '0', '0', '2', '1', '1', '0', '2', '2', '1', '1', '2', '1', '1', '2', '2', '0', '0', '0', '3', '2', '1', '2', '2', '0', '2', '2', '2', '0', '1', '1', '0', '1', '2', '0', '2', '2', '2', '2', '0', '1', '1', '2', '0', '2', '0', '4', '2', '2', '2', '0', '2', '2', '2', '2', '2', '0', '0', '4', '0', '3', '2', '1', '2', '2', '1', '0', '0', '0', '2', '0', '2', '0', '2', '1', '2', '2', '1', '1', '2', '4', '2', '0', '2', '2', '1', '0', '0', '2', '2', '0', '2', '0', '0', '1', '1', '1', '0', '1', '3', '0', '0', '3', '2', '0', '2', '2', '2', '2', '0', '2', '0', '3', '0', '0', '1', '2', '0', '1', '2', '2', '2', '1', '2', '2', '2', '0', '0', '2', '0', '0', '1', '2', '0', '2', '2', '2', '0', '2', '2', '0', '0', '0', '0', '0', '1', '2', '2', '0', '0', '3', '1', '2', '2', '2', '1', '0', '0', '2', '3', '2', '2', '0', '2', '2', '0', '2', '2', '0', '0', '0', '3', '2', '2', '4', '0', '2', '2', '2', '2', '2', '2', '2', '2', '2', '0', '2', '3', '2', '2', '1', '2', '1', '2', '1', '4', '1', '3', '2', '0', '2', '1', '0', '0', '2', '1', '0', '0', '2', '2', '0', '0', '2', '4', '1', '0', '2', '2', '0', '0', '0', '3', '2', '0', '0', '1', '2', '0', '2', '1', '2', '3', '4', '1', '2', '0', '2', '1', '2', '1', '1', '0', '0', '0', '0', '0', '2', '1', '2', '2', '2', '2', '0', '0', '2', '1', '0', '1', '2', '0', '3', '2', '2', '4', '1', '2', '2', '2', '0', '2', '1', '2', '0', '2', '0', '1', '0', '2', '1', '0', '2', '2', '2', '0', '0', '2', '0', '0', '0', '2', '2', '1', '2', '2', '2', '1', '0', '0', '2', '3', '0', '1', '0', '0', '0', '0', '3', '0', '2', '0', '1', '0', '2', '0', '1', '1', '2', '0', '2', '1', '2', '2', '1', '1', '2', '0', '0', '1', '2', '0', '0', '2', '2', '1', '2', '0', '2', '2', '2', '1', '2', '2', '0', '2', '2', '2', '3', '4', '0', '0', '0', '2', '0', '2', '2', '2', '1', '3', '2', '0', '1', '2', '1', '0', '2', '2', '0', '3', '2', '2', '1', '0', '2', '0', '2', '2', '2', '2', '0', '0', '0', '0', '4', '2', '2', '2', '2', '2', '2', '3', '0', '2', '0', '0', '0', '2', '2', '2', '0', '2', '0', '0', '2', '4', '1', '3', '0', '3', '3', '2', '0', '2', '3', '2', '1', '0', '0', '0', '2', '0', '2', '1', '2', '1', '2', '2', '0', '2', '2', '2', '3', '2', '0', '0', '0', '0', '2', '0', '4', '2', '1', '1', '0', '3', '2', '2', '3', '1', '2', '0', '1', '2', '2', '0', '2', '2', '0', '1', '2', '0', '1', '0', '1', '2', '1', '0', '0', '2', '0', '2', '2', '2', '0', '1', '2', '4', '0', '2', '2', '0', '1', '2', '0', '2', '3', '0', '0', '1', '0', '2', '0', '2', '2', '0', '0', '3', '2', '1', '1', '2', '0', '2', '2', '1', '1', '0', '4', '2', '1', '2', '1', '0', '2', '0', '1', '2', '3', '1', '1', '3', '0', '1', '1', '1', '2', '2', '0', '0', '0', '2', '0', '0', '2', '2', '2', '3', '2', '2', '1', '2', '2', '0', '2', '4', '2', '2', '2', '0', '2', '0', '2', '2', '0', '3', '4', '2', '2', '4', '2', '0', '3', '0', '1', '3', '0', '0', '0', '3', '0', '4', '1', '2', '2', '2', '3', '2', '1', '2', '2', '2', '2', '0', '2', '2', '0', '1', '1', '2', '1', '2', '0', '1', '2', '4', '2', '2', '1', '0', '2', '3', '2', '2', '0', '1', '2', '2', '2', '2', '2', '1', '2', '1', '2', '3', '2', '1', '2', '2', '0', '2', '1', '1', '2', '0', '2', '2', '2', '2', '0', '3', '4', '2', '2', '1', '2', '2', '1', '4', '2', '1', '1', '2', '2', '2', '0', '1', '2', '1', '2', '0', '2', '1', '1', '0', '0', '0', '2', '1', '0', '2', '0', '2', '0', '2', '2', '0', '3', '3', '2', '3', '0', '1', '1', '2', '2', '1', '2', '2', '2', '2', '0', '1', '3', '2', '3', '1', '0', '2', '0', '1', '1', '2', '1', '2', '2', '2', '1', '0', '1', '2', '2', '2', '1', '3', '2', '0', '2', '1', '0', '0', '1', '4', '2', '0', '1', '2', '0', '0', '0', '2', '1', '2', '0', '2', '2', '0', '0', '2', '0', '4', '0', '0', '0', '0', '0', '2', '0', '2', '1', '2', '2', '1', '2', '1', '2', '2', '2', '2', '0', '2', '2', '2', '0', '2', '2', '0', '0', '0', '3', '2', '0', '2', '0', '1', '1', '2', '0', '2', '2', '2', '2', '2', '4', '0', '0', '2', '0', '2', '2', '2', '2', '1', '1', '2', '0', '2', '0', '2', '1', '1', '1', '4', '0', '1', '2', '0', '2', '2', '0', '1', '1', '1', '2', '2', '0', '2', '3', '0', '3', '2', '1', '2', '2', '1', '2', '2', '2', '1', '1', '0', '2', '0', '2', '0', '3', '0', '0', '2', '2', '2', '0', '4', '2', '0', '0', '2', '3', '2', '2', '3', '0', '0', '0', '4', '2', '0', '0', '2', '0', '2', '1', '2', '1', '1', '2', '0', '1', '2', '4', '0', '1', '1', '1', '2', '0', '0', '0', '2', '0', '2', '0', '2', '1', '0', '1', '0', '3', '2', '3', '0', '0', '2', '2', '0', '2', '2', '2', '2', '0', '2', '2', '1', '2', '0', '2', '3', '3', '2', '0', '0', '2', '0', '2', '2', '1', '2', '2', '2', '2', '1', '0', '0', '0', '0', '1', '2', '2', '2', '2', '1', '2', '1', '0', '2', '1', '3', '0', '2', '1', '1', '1', '2', '2', '0', '2', '2', '1', '0', '0', '2', '0', '1', '0', '2', '3', '0', '2', '1', '1', '2', '2', '0', '2', '3', '2', '0', '2', '4', '2', '0', '2', '2', '2', '0', '2', '0', '0', '2', '2', '4', '0', '0', '2', '4', '1', '2', '1', '1', '2', '2', '0', '2', '2', '2', '1', '1', '2', '2', '2', '1', '0', '1', '2', '0', '2', '2', '2', '0', '1', '2', '2', '3', '2', '1', '0', '0', '0', '0', '0', '2', '0', '1', '2', '0', '2', '0', '3', '0', '4', '2', '0', '0', '1', '1', '3', '0', '2', '2', '0', '0', '2', '2', '2', '2', '1', '2', '2', '3', '3', '2', '4', '2', '2', '2', '2', '0', '2', '1', '0', '0', '2', '1', '2', '0', '1', '2', '2', '2', '2', '2', '2', '3', '0', '2', '2', '0', '2', '2', '1', '2', '1', '2', '0', '2', '0', '2', '2', '0', '0', '0', '2', '1', '0', '2', '2', '2', '2', '1', '2', '0', '3', '3', '2', '3', '1', '1', '0', '0', '1', '2', '1', '0', '2', '2', '2', '0', '3', '3', '2', '2', '2', '0', '0', '2', '2', '2', '3', '0', '2', '2', '0', '0', '0', '2', '1', '2', '0', '1', '2', '1', '3', '2', '2', '1', '2', '2', '0', '0', '0', '2', '2', '4', '0', '2', '2', '2', '1', '3', '2', '0', '2', '2', '0', '2', '2', '2', '1', '0', '0', '1', '0', '2', '1', '0', '0', '0', '2', '2', '0', '0', '3', '2', '1', '1', '2', '1', '3', '0', '0', '0', '0', '2', '0', '0', '0', '2', '2', '0', '1', '2', '2', '2', '3', '2', '2', '2', '1', '2', '2', '2', '2', '4', '0', '2', '0', '2', '2', '0', '2', '1', '1', '2', '0', '2', '2', '2', '2', '2', '2', '2', '3', '2', '2', '0', '2', '2', '0', '0', '2', '2', '1', '1', '0', '2', '2', '1', '2', '2', '1', '3', '0', '2', '2', '2', '2', '0', '0', '0', '2', '2', '2', '2', '0', '1', '2', '1', '2', '0', '2', '0', '3', '2', '0', '3', '0', '0', '2', '1', '2', '2', '0', '1', '1', '2', '2', '0', '0', '2', '1', '1', '1', '1', '2', '1', '0', '2', '2', '2', '3', '0', '2', '0', '1', '0', '2', '2', '2', '2', '2', '1', '2', '0', '2', '2', '1', '1', '0', '1', '1', '0', '0', '0', '2', '1', '0', '2', '2', '0', '2', '2', '2', '2', '3', '2', '2', '2', '0', '2', '2', '2', '1', '2', '0', '0', '0', '2', '0', '0', '1', '2', '2', '2', '0', '1', '2', '2', '0', '2', '2', '0', '2', '0', '3', '0', '0', '0', '0', '0', '2', '0', '2', '1', '1', '1', '2', '4', '1', '3', '2', '0', '1', '1', '2', '1', '1', '1', '0', '0', '1', '2', '0', '4', '2', '0', '2', '0', '2', '1', '1', '2', '2', '0', '2', '0', '2', '2', '2', '2', '2', '1', '2', '2', '2', '0', '0', '2', '2', '2', '0', '2', '1', '2', '0', '2', '0', '3', '0', '2', '0', '2', '0', '3', '1', '0', '0', '0', '2', '0', '2', '2', '2', '2', '1', '2', '2', '2', '3', '2', '2', '2', '2', '1', '0', '2', '0', '2', '0', '0', '0', '2', '0', '2', '2', '2', '1', '0', '0', '1', '2', '4', '2', '0', '1', '0', '2', '0', '2', '0', '2', '3', '2', '2', '0', '2', '0', '4', '0', '1', '2', '0', '1', '0', '2', '2', '3', '4', '2', '0', '2', '2', '2', '2', '2', '0', '0', '2', '2', '1', '1', '2', '2', '1', '0', '3', '1', '2', '4', '3', '2', '0', '2', '0', '2', '2', '4', '1', '1', '0', '4', '0', '2', '0', '2', '2', '0', '2', '3', '1', '1', '0', '2', '2', '3', '3', '1', '2', '2', '0', '2', '2', '2', '2', '2', '2', '2', '2', '0', '2', '1', '0', '2', '2', '0', '3', '2', '2', '2', '2', '1', '2', '1', '1', '2', '1', '2', '1', '2', '2', '3', '0', '1', '1', '0', '0', '2', '2', '2', '2', '1', '0', '0', '2', '2', '2', '0', '0', '1', '1', '2', '1', '0', '0', '0', '2', '0', '2', '1', '2', '0', '0', '1', '0', '2', '1', '2', '1', '0', '2', '2', '2', '2', '1', '2', '3', '2', '2', '0', '1', '2', '0', '2', '2', '0', '2', '1', '1', '2', '0', '0', '2', '2', '3', '2', '2', '0', '1', '2', '0', '3', '0', '2', '0', '2', '2', '1', '1', '2', '0', '2', '1', '1', '0', '2', '0', '2', '2', '0', '2', '2', '0', '1', '0', '2', '3', '2', '1', '0', '3', '0', '2', '0', '2', '2', '2', '0', '2', '3', '2', '2', '2', '1', '1', '0', '4', '2', '2', '2', '2', '2', '2', '0', '2', '2', '1', '2', '2', '0', '2', '0', '0', '2', '0', '2', '2', '0', '1', '2', '2', '1', '2', '2', '2', '2', '1', '0', '0', '2', '0', '4', '3', '2', '2', '2', '0', '0', '2', '0', '2', '0', '2', '2', '2', '3', '3', '2', '2', '2', '1', '2', '1', '2', '2', '0', '2', '0', '2', '2', '3', '0', '2', '2', '2', '0', '2', '4', '2', '2', '2', '2', '2', '2', '0', '3', '2', '0', '2', '2', '2', '4', '3', '0', '4', '2', '2', '2', '0', '0', '1', '0', '0', '2', '2', '2', '2', '2', '0', '2', '2', '2', '2', '0', '0', '2', '1', '2', '0', '0', '1', '4', '1', '1', '3', '0', '1', '0', '4', '2', '2', '0', '0', '2', '2', '1', '3', '2', '2', '2', '2', '4', '2', '1', '0', '2', '2', '2', '2', '1', '1', '0', '2', '3', '0', '2', '2', '2', '4', '0', '4', '2', '2', '1', '1', '0', '2', '2', '0', '1', '0', '0', '2', '2', '2', '2', '2', '0', '2', '2', '0', '2', '2', '4', '2', '2', '0', '2', '1', '0', '2', '1', '1', '0', '0', '0', '0', '3', '2', '2', '0', '3', '0', '2', '0', '2', '2', '2', '3', '1', '2', '2', '0', '2', '2', '0', '0', '2', '0', '1', '0', '2', '0', '3', '2', '0', '0', '2', '2', '1', '0', '1', '2', '0', '0', '2', '2', '2', '0', '0', '4', '0', '0', '0', '0', '0', '2', '0', '2', '2', '0', '1', '2', '0', '2', '2', '0', '3', '2', '2', '3', '1', '2', '2', '2', '0', '0', '3', '0', '2', '0', '2', '1', '1', '0', '0', '2', '2', '2', '2', '0', '1', '1', '1', '1', '2', '2', '1', '2', '2', '2', '2', '0', '0', '2', '2', '4', '2', '3', '0', '0', '3', '0', '3', '0', '1', '0', '0', '0', '0', '3', '0', '2', '3', '2', '2', '3', '2', '3', '3', '3', '3', '2', '3', '3', '3', '2', '4', '2', '3', '2', '2', '1', '2', '3', '3', '3', '2', '3', '3', '3', '3', '3', '3', '3', '3', '3', '3', '3', '3', '3', '3', '3', '3', '3', '3', '3', '4', '3', '3', '3', '3', '3', '2', '2', '0', '3', '0', '3', '3', '3', '0', '3', '3', '3', '3', '3', '2', '3', '3', '2', '3', '3', '3', '3', '3', '3', '4', '3', '2', '3', '2', '2', '2', '1', '3', '2', '3', '1', '3', '3', '2', '3', '3', '3', '0', '3', '2', '2', '3', '2', '1', '3', '3', '3', '3', '3', '1', '3', '3', '3', '1', '2', '3', '2', '0', '1', '2', '3', '2', '1', '3', '3', '1', '3', '3', '2', '3', '3', '2', '3', '3', '3', '3', '0', '2', '0', '3', '3', '2', '3', '3', '3', '3', '3', '3', '4', '0', '3', '2', '3', '3', '3', '3', '2', '3', '4', '3', '3', '2', '3', '1', '2', '3', '4', '3', '2', '3', '3', '2', '2', '2', '2', '3', '2', '3', '2', '3', '3', '2', '3', '2', '3', '4', '2', '3', '2', '3', '3', '2', '3', '3', '2', '3', '3', '3', '3', '3', '3', '3', '3', '1', '3', '3', '3', '3', '2', '3', '2', '2', '3', '2', '2', '3', '3', '2', '3', '3', '3', '4', '2', '2', '3', '2', '3', '3', '3', '2', '3', '3', '2', '3', '3', '2', '3', '3', '3', '3', '3', '3', '4', '3', '2', '3', '3', '2', '3', '3', '3', '1', '3', '3', '2', '3', '4', '3', '3', '2', '2', '2', '3', '3', '3', '2', '2', '3', '3', '3', '3', '1', '3', '2', '2', '3', '2', '2', '3', '2', '2', '4', '3', '4', '3', '2', '2', '2', '3', '3', '3', '3', '2', '4', '3', '3', '2', '2', '2', '4', '3', '2', '3', '2', '3', '3', '3', '3', '2', '3', '3', '4', '2', '3', '2', '3', '3', '2', '3', '3', '2', '3', '3', '3', '2', '2', '1', '3', '3', '3', '3', '3', '3', '2', '2', '3', '3', '3', '2', '3', '3', '3', '3', '3', '2', '0', '2', '2', '3', '2', '3', '3', '2', '3', '2', '3', '3', '3', '3', '3', '0', '3', '0', '3', '3', '3', '3', '3', '3', '3', '1', '3', '4', '2', '0', '3', '2', '3', '3', '2', '3', '2', '3', '3', '3', '2', '3', '3', '4', '3', '3', '3', '3', '3', '3', '3', '3', '4', '3', '2', '2', '3', '2', '1', '2', '3', '2', '2', '3', '0', '2', '2', '2', '2', '3', '3', '3', '4', '2', '2', '3', '2', '3', '3', '3', '4', '2', '3', '1', '2', '3', '4', '3', '2', '3', '2', '3', '3', '3', '2', '3', '3', '2', '2', '3', '2', '1', '3', '2', '2', '2', '2', '3', '2', '3', '2', '3', '3', '3', '2', '3', '3', '0', '2', '3', '2', '2', '3', '3', '2', '2', '0', '2', '3', '0', '2', '2', '2', '3', '1', '2', '3', '3', '2', '4', '3', '3', '4', '4', '3', '3', '3', '2', '3', '3', '2', '2', '2', '2', '2', '3', '2', '3', '3', '3', '3', '3', '3', '3', '3', '2', '3', '3', '3', '2', '2', '2', '3', '3', '3', '3', '3', '1', '3', '2', '3', '2', '3', '3', '3', '2', '2', '3', '3', '2', '3', '3', '3', '2', '3', '3', '3', '3', '2', '4', '3', '1', '2', '3', '3', '3', '3', '3', '3', '3', '3', '4', '3', '3', '2', '3', '3', '2', '2', '3', '3', '3', '2', '3', '4', '0', '3', '2', '3', '3', '3', '3', '2', '3', '3', '1', '3', '3', '2', '2', '3', '2', '2', '3', '3', '3', '3', '3', '3', '2', '2', '2', '1', '3', '3', '1', '3', '3', '3', '2', '2', '3', '3', '2', '2', '2', '2', '3', '2', '3', '3', '3', '3', '3', '3', '3', '4', '3', '3', '3', '1', '3', '3', '3', '3', '1', '4', '3', '3', '2', '3', '2', '2', '3', '3', '3', '2', '3', '3', '1', '3', '4', '3', '3', '3', '2', '2', '3', '2', '3', '3', '3', '2', '3', '3', '2', '3', '1', '3', '3', '3', '2', '3', '3', '3', '3', '2', '2', '3', '2', '3', '3', '3', '3', '3', '3', '3', '3', '3', '4', '3', '3', '3', '3', '3', '3', '3', '2', '3', '1', '3', '2', '2', '3', '2', '2', '3', '0', '2', '2', '3', '3', '3', '3', '3', '1', '1', '3', '3', '3', '2', '3', '3', '2', '2', '2', '3', '3', '3', '2', '3', '3', '3', '2', '3', '3', '3', '2', '2', '3', '3', '2', '3', '3', '3', '3', '3', '3', '2', '3', '3', '2', '3', '3', '2', '1', '3', '3', '3', '2', '3', '1', '2', '3', '3', '3', '3', '2', '2', '3', '2', '3', '3', '3', '3', '3', '3', '3', '4', '3', '3', '2', '2', '3', '3', '3', '3', '1', '3', '3', '4', '3', '2', '1', '2', '4', '3', '2', '3', '3', '3', '2', '3', '3', '2', '3', '3', '3', '3', '3', '3', '3', '3', '3', '3', '3', '2', '3', '2', '3', '1', '3', '3', '4', '3', '2', '2', '2', '3', '0', '3', '2', '3', '3', '2', '3', '2', '2', '3', '2', '2', '3', '3', '3', '2', '2', '2', '3', '2', '3', '3', '3', '3', '2', '3', '3', '3', '3', '3', '3', '1', '2', '3', '3', '3', '2', '3', '3', '3', '3', '3', '1', '2', '2', '3', '3', '3', '3', '3', '4', '3', '3', '3', '2', '2', '3', '3', '3', '3', '3', '1', '3', '2', '4', '0', '2', '3', '2', '2', '3', '3', '3', '4', '3', '3', '3', '2', '3', '3', '1', '3', '2', '3', '3', '2', '1', '3', '1', '3', '3', '3', '4', '3', '3', '2', '4', '3', '1', '3', '3', '3', '2', '3', '3', '2', '2', '2', '2', '3', '0', '3', '3', '2', '2', '3', '2', '4', '3', '3', '3', '3', '3', '3', '3', '4', '3', '3', '3', '2', '2', '3', '2', '3', '3', '1', '2', '3', '1', '1', '3', '2', '4', '3', '3', '2', '3', '1', '3', '3', '3', '1', '3', '3', '3', '2', '3', '3', '2', '3', '2', '2', '2', '1', '2', '3', '2', '3', '3', '3', '3', '3', '0', '3', '3', '2', '2', '3', '3', '3', '3', '3', '4', '2', '1', '2', '3', '2', '2', '3', '3', '2', '2', '2', '0', '2', '2', '3', '3', '2', '2', '3', '3', '2', '1', '2', '2', '3', '2', '4', '3', '4', '3', '3', '3', '2', '3', '3', '3', '3', '3', '3', '3', '3', '2', '3', '3', '2', '2', '2', '3', '3', '2', '2', '3', '2', '3', '2', '3', '4', '2', '3', '2', '3', '3', '3', '2', '4', '3', '4', '2', '3', '3', '3', '2', '4', '2', '4', '2', '4', '2', '4', '4', '4', '4', '4', '4', '0', '3', '4', '4', '3', '4', '2', '3', '4', '4', '4', '2', '4', '4', '4', '2', '2', '3', '4', '4', '4', '4', '4', '4', '4', '4', '2', '4', '4', '4', '4', '2', '4', '3', '2', '4', '2', '2', '4', '4', '4', '4', '4', '4', '4', '4', '4', '4', '4', '4', '4', '4', '4', '2', '3', '4', '4', '4', '0', '4', '4', '4', '4', '4', '4', '4', '4', '4', '4', '1', '4', '4', '4', '4', '4', '4', '4', '0', '1', '4', '4', '4', '4', '4', '3', '2', '4', '4', '2', '4', '4', '4', '2', '4', '4', '4', '4', '4', '4', '4', '0', '3', '4', '4', '2', '3', '4', '4', '4', '4', '4', '0', '4', '4', '4', '4', '4', '4', '4', '4', '2', '4', '4', '2', '4', '3', '4', '4', '3', '0', '4', '4', '2', '4', '4', '4', '4', '2', '4', '4', '4', '4', '4', '2', '4', '4', '4', '4', '4', '4', '4', '4', '4', '4', '4', '4', '4', '2', '4', '3', '4', '4', '4', '2', '2', '4', '4', '3', '4', '4', '4', '4', '4', '2', '4', '4', '0', '4', '4', '4', '4', '2', '4', '4', '4', '4', '4', '4', '4', '2', '4', '0', '4', '4', '4', '2', '4', '4', '4', '4', '4', '2', '4', '4', '4', '4', '4', '4', '2', '4', '4', '4', '2', '4', '4', '4', '3', '4', '0', '2', '2', '4', '4', '4', '0', '4', '4', '4', '4', '4', '4', '2', '4', '3', '4', '4', '1', '4', '4', '4', '4', '4', '0', '4', '3', '3', '4', '1', '4', '4', '4', '4', '2', '3', '3', '4', '4', '2', '2', '4', '2', '4', '2', '4', '4', '3', '4', '4', '4', '4', '2', '4', '4', '4', '3', '2', '4', '3', '2', '4', '3', '3', '4', '2', '4', '1', '4', '3', '4', '4', '0', '4', '4', '4', '4', '4', '4', '2', '2', '4', '4', '4', '4', '4', '2', '4', '2', '4', '2', '4', '2', '4', '4', '2', '4', '4', '4', '4', '4', '4', '4', '4', '2', '2', '4', '2', '4', '4', '4', '4', '4', '4', '4', '4', '3', '3', '4', '4', '4', '4', '4', '4', '4', '4', '4', '2', '4', '4', '0', '4', '4', '4', '4', '4', '4', '4', '2', '3', '4', '2', '4', '2', '4', '3', '4', '3', '4', '4', '4', '4', '4', '4', '4', '4', '4', '4', '4', '4', '4', '4', '4', '4', '4', '2', '4', '2', '4', '4', '4', '4', '3', '3', '4', '4', '4', '2', '4', '4', '3', '4', '4', '4', '3', '4', '4', '4', '4', '4', '4', '3', '3', '2', '4', '4', '4', '3', '2', '1', '2', '4', '4', '4', '4', '4', '2', '2', '4', '4', '4', '3', '4', '4', '4', '4', '4', '4', '4', '4', '4', '0', '0', '4', '4', '4', '4', '4', '4', '3', '4', '3', '3', '4', '4', '4', '4', '4', '4', '3', '2', '4', '2', '4', '4', '4', '4', '4', '4', '3', '4', '2', '2', '4', '2', '0', '0', '4', '4', '4', '4', '4', '4', '0', '4', '4', '1', '4', '4', '4', '4', '2', '4', '3', '3', '4', '1', '4', '4', '0', '4', '2', '4', '4', '4', '4', '4', '4', '4', '4', '4', '4', '4', '4', '4', '4', '4', '2', '4', '2', '3', '4', '4', '3', '4', '4', '4', '4', '4', '4', '4', '4', '4', '4', '4', '4', '4', '4', '4', '4', '4', '4', '4', '4', '4', '4', '4', '4', '4', '4', '3', '4', '4', '3', '4', '0', '3', '4', '4', '2', '2', '4', '4', '4', '4', '4', '4', '3', '3', '4', '4', '4', '4', '4', '4', '4', '4', '2', '4', '4', '4', '4', '0', '4', '4', '3', '3', '4', '4', '4', '4', '4', '4', '4', '4', '4', '4', '4', '4', '4', '4', '4', '4', '2', '0', '2', '4', '4', '4', '4', '3', '4', '2', '4', '4', '3', '1', '4', '4', '3', '4', '0', '4', '4', '4', '3', '4', '2', '2', '2', '0', '2', '3', '4', '3', '4', '3', '2', '4', '4', '4', '2', '4', '3', '2', '4', '0', '4', '4', '4', '2', '4', '0', '4', '2', '4', '4', '4', '4', '4', '4', '4', '4', '4', '4', '4', '4', '4', '4', '4', '2', '2', '4', '4', '4', '4', '4', '4', '3', '4', '2', '4', '4', '3', '4', '4', '3', '4', '2', '4', '4', '4', '4', '4', '4', '4', '4', '4', '4', '4', '4', '2', '3', '4', '4', '4', '4', '4', '4', '4', '4', '4', '4', '4', '4', '4', '3', '2', '4', '2', '4', '4', '4', '4', '4', '2', '4', '4', '4', '4', '3', '4', '4', '4', '4', '4', '4', '4', '4', '4', '0', '4', '4', '4', '4', '3', '4', '4', '2', '4', '4', '3', '4', '4', '2', '2', '4', '4', '4', '4', '4', '4', '4', '4', '4', '4', '4', '4', '4', '4', '2', '3', '2', '0', '2', '0', '4', '4', '4', '4', '4', '4', '4', '4', '3', '3', '4', '4', '4', '4', '4', '4', '4', '0', '4', '4', '4', '4', '4', '4', '4', '0', '4', '2', '4', '4', '2', '4', '0', '4', '4', '4', '3', '4', '4', '4', '4', '4', '4', '3', '4', '2', '4', '3', '2', '4', '4', '4', '4', '4', '4', '4', '4', '4', '4', '4', '4', '2', '4', '4', '4', '3', '4', '4', '4', '4', '4', '4', '4', '4', '2', '3', '4', '4', '4', '4', '4', '4', '4', '4', '4', '4', '2', '4', '4', '3', '4', '4', '4', '4', '2', '4', '4', '4', '4', '4', '4', '4', '2', '4', '4', '4', '4', '4', '4', '1', '4', '4', '4', '4', '4', '4', '4', '3', '4', '4', '4', '3', '0', '3', '4', '4', '4', '1', '4', '4', '0', '3', '4', '4', '4', '4', '4', '2', '4', '2', '4', '4', '4', '4', '4', '4', '4', '4', '4', '3', '4', '4', '4', '4', '3', '4', '3', '3', '4', '2', '4', '2', '4', '4', '4', '4', '4', '4', '4', '4', '2', '4', '2', '4', '4', '4', '3', '2', '2', '4', '2', '4', '4', '4', '3', '2', '4', '4', '4', '4', '4', '4', '3', '2', '4', '4', '2', '4', '2', '3', '2', '4', '4', '4', '0', '0', '0', '0', '0', '0', '0', '0', '0', '0', '0', '0', '0', '0', '0', '0', '0', '0', '0', '0', '0', '0', '0', '0', '0', '0', '0', '0', '0', '0', '0', '0', '0', '0', '0', '0', '0', '0', '0', '0', '0', '0', '0', '0', '0', '0', '0', '0', '0', '0', '0', '0', '0', '0', '0', '0', '0', '0', '0', '0', '0', '0', '0', '0', '0', '0', '0', '0', '0', '0', '0', '0', '0', '0', '0', '0', '0', '0', '0', '0', '0', '0', '0', '0', '0', '0', '0', '0', '0', '0', '0', '0', '0', '0', '0', '0', '0', '0', '0', '0', '0', '0', '0', '0', '0', '0', '2', '0', '0', '0', '0', '0', '0', '0', '0', '0', '0', '0', '0', '0', '0', '0', '0', '0', '0', '0', '0', '0', '0', '0', '0', '0', '0', '0', '0', '0', '0', '0', '0', '0', '0', '0', '0', '0', '0', '0', '0', '0', '0', '0', '0', '0', '0', '0', '0', '0', '0', '0', '0', '0', '0', '0', '0', '0', '0', '0', '0', '0', '0', '0', '0', '0', '0', '0', '0', '0', '0', '0', '0', '0', '0', '0', '0', '0', '0', '0', '0', '0', '0', '0', '0', '0', '0', '0', '2', '0', '0', '0', '0', '0', '0', '0', '0', '0', '0', '0', '2', '0', '0', '0', '0', '0', '0', '0', '0', '0', '0', '0', '0', '0', '0', '0', '0', '0', '0', '0', '0', '0', '0', '0', '0', '0', '0', '0', '0', '0', '0', '0', '0', '0', '0', '0', '0', '0', '0', '0', '0', '0', '0', '0', '0', '0', '0', '0', '0', '0', '0', '0', '0', '0', '0', '0', '0', '0', '0', '0', '0', '0', '0', '2', '0', '0', '0', '0', '0', '0', '0', '0', '0', '0', '0', '0', '0', '0', '0', '0', '0', '0', '0', '0', '0', '0', '0', '0', '0', '0', '0', '0', '0', '0', '0', '0', '0', '0', '0', '0', '0', '0', '0', '0', '0', '0', '0', '0', '0', '0', '0', '0', '0', '0', '0', '0', '0', '0', '0', '0', '0', '0', '0', '0', '0', '0', '0', '0', '0', '0', '0', '0', '0', '0', '0', '0', '0', '0', '0', '0', '0', '0', '0', '0', '0', '0', '0', '0', '0', '0', '0', '0', '0', '0', '0', '0', '0', '0', '0', '0', '0', '0', '0', '0', '0', '0', '0', '0', '0', '0', '0', '0', '0', '0', '0', '0', '0', '0', '0', '0', '0', '0', '0', '0', '0', '0', '0', '0', '0', '0', '0', '0', '0', '0', '0', '0', '0', '0', '0', '0', '0', '0', '0', '0', '0', '0', '0', '0', '0', '0', '0', '0', '0', '0', '0', '0', '0', '0', '0', '0', '0', '0', '0', '0', '0', '0', '0', '0', '0', '2', '0', '0', '0', '0', '0', '0', '0', '0', '0', '0', '0', '0', '0', '0', '0', '0', '0', '2', '0', '0', '0', '0', '0', '0', '0', '0', '0', '0', '0', '0', '0', '0', '2', '0', '0', '0', '0', '0', '0', '4', '0', '0', '0', '0', '0', '0', '0', '0', '0', '0', '0', '0', '0', '0', '0', '0', '0', '0', '0', '0', '0', '0', '0', '0', '0', '0', '0', '0', '0', '0', '0', '0', '0', '0', '0', '0', '0', '0', '0', '0', '0', '0', '0', '0', '0', '0', '0', '0', '0', '0', '0', '0', '0', '0', '0', '0', '0', '0', '0', '0', '0', '0', '0', '0', '0', '0', '0', '0', '0', '0', '0', '0', '0', '0', '0', '0', '0', '0', '0', '0', '0', '0', '0', '0', '0', '0', '0', '0', '0', '0', '0', '0', '0', '0', '0', '0', '2', '0', '0', '0', '0', '0', '0', '0', '0', '0', '0', '0', '0', '0', '0', '0', '0', '0', '0', '0', '0', '0', '0', '0', '0', '0', '0', '0', '0', '0', '0', '0', '0', '0', '0', '0', '0', '0', '0', '0', '0', '0', '0', '0', '0', '0', '0', '0', '0', '0', '0', '0', '0', '0', '0', '0', '0', '0', '0', '0', '0', '0', '0', '0', '0', '0', '0', '0', '2', '0', '0', '0', '0', '0', '0', '0', '0', '0', '0', '0', '0', '0', '0', '0', '0', '0', '0', '0', '0', '0', '0', '0', '0', '0', '0', '0', '0', '0', '0', '0', '0', '0', '0', '0', '0', '0', '0', '0', '0', '0', '0', '0', '0', '0', '0', '0', '0', '0', '0', '0', '0', '0', '0', '0', '0', '0', '0', '0', '0', '0', '0', '0', '0', '0', '0', '0', '0', '0', '0', '0', '0', '0', '0', '0', '0', '0', '0', '0', '0', '0', '0', '0', '0', '0', '0', '0', '0', '0', '0', '0', '0', '0', '0', '0', '0', '0', '0', '0', '0', '0', '0', '0', '0', '0', '0', '0', '0', '0', '0', '0', '0', '0', '0', '0', '0', '0', '0', '0', '0', '0', '0', '0', '0', '0', '0', '0', '0', '0', '0', '0', '0', '0', '0', '0', '0', '0', '0', '0', '0', '0', '0', '0', '0', '0', '0', '0', '0', '0', '0', '0', '0', '0', '0', '0', '0', '0', '0', '0', '0', '0', '0', '0', '0', '0', '0', '0', '0', '0', '0', '0', '0', '0', '0', '0', '0', '0', '0', '0', '0', '0', '0', '0', '0', '0', '0', '0', '0', '0', '0', '0', '0', '0', '0', '0', '0', '0', '0', '0', '0', '0', '0', '0', '0', '0', '0', '0', '0', '0', '0', '0', '0', '0', '0', '0', '0', '0', '0', '0', '0', '0', '0', '0', '0', '0', '0', '0', '0', '0', '0', '0', '0', '0', '0', '0', '0', '0', '0', '0', '0', '0', '0', '0', '0', '0', '0', '0', '0', '0', '0', '0', '0', '0', '0', '0', '0', '0', '0', '0', '0', '0', '0', '0', '0', '0', '0', '0', '0', '0', '0', '0', '0', '0', '0', '0', '0', '0', '0', '0', '0', '0', '0', '0', '0', '0', '0', '0', '0', '0', '0', '0', '0', '0', '0', '0', '0', '0', '0', '0', '0', '0', '0', '0', '0', '0', '0', '0', '0', '0', '0', '0', '0', '0', '0', '0', '0', '0', '0', '0', '2', '0', '0', '0', '0', '0', '0', '0', '0', '0', '0', '0', '0', '0', '0', '0', '0', '0', '0', '0', '0', '0', '0', '0', '0', '0', '0', '0', '0', '0', '0', '0', '0', '0', '0', '0', '0', '0', '0', '0', '0', '0', '0', '0', '0', '0', '0', '0', '0', '0', '0', '0', '0', '0', '0', '0', '0', '0', '0', '0', '0', '0', '0', '0', '0', '0', '0', '0', '0', '0', '0', '0', '0', '0', '0', '0', '0', '0', '0', '0', '0', '0', '0', '0', '0', '0', '0', '0', '0', '0', '0', '0', '0', '0', '0', '0', '0', '0', '0', '0', '0', '0', '0', '0', '0', '0', '0', '0', '0', '0', '0', '0', '0', '0', '0', '0', '0', '0', '0', '0', '0', '0', '0', '0', '0', '0', '0', '0', '0', '0', '0', '0', '0', '0', '0', '0', '0', '0', '0', '0', '0', '0', '0', '0', '0', '0', '0', '0', '0', '0', '0', '0', '0', '0', '0', '0', '0', '0', '0', '0', '0', '0', '0', '0', '0', '0', '0', '0', '0', '0', '0', '0', '0', '0', '0', '0', '0', '0', '0', '0', '0', '0', '0', '0', '0', '0', '0', '0', '0', '0', '0', '0', '0', '0', '0', '0', '0', '0', '0', '0', '0', '0', '0', '0', '0', '0', '0', '0', '0', '0', '0', '0', '0', '0', '0', '0', '0', '0', '2', '0', '0', '0', '0', '0', '0', '0', '0', '0', '0', '0', '0', '0', '0', '0', '0', '0', '0', '0', '0', '0', '0', '0', '0', '0', '0', '0', '0', '0', '0', '0', '0', '0', '0', '0', '0', '0', '0', '0', '0', '0', '0', '0', '0', '0', '0', '0', '0', '0', '0', '0', '0', '0', '0', '0', '0', '0', '0', '0', '0', '0', '0', '0', '0', '0', '0', '0', '0', '0', '0', '0', '0', '0', '0', '0', '0', '0', '0', '0', '0', '0', '0', '0', '2', '0', '0', '0', '0', '0', '0', '0', '0', '0', '0', '0', '0', '0', '0', '0', '0', '0', '0', '0', '0', '0', '0', '0', '0', '0', '0', '0', '0', '0', '0', '0', '0', '0', '0', '0', '0', '0', '0', '0', '0', '0', '0', '0', '0', '0', '0', '0', '0', '0', '0', '0', '0', '0', '0', '0', '0', '0', '0', '0', '0', '0', '0', '0', '0', '0', '0', '0', '0', '0', '0', '0', '0', '0', '0', '0', '0', '0', '0', '0', '0', '0', '0', '0', '0', '0', '0', '0', '0', '0', '0', '0', '0', '0', '0', '0', '0', '0', '0', '0', '0', '0', '0', '0', '0', '0', '0', '0', '0', '0', '0', '0', '0', '0', '0', '0', '2', '0', '0', '0', '0', '0', '0', '0', '0', '0', '0', '0', '0', '0', '0', '0', '0', '0', '0', '0', '0', '0', '0', '0', '0', '0', '0', '0', '0', '0', '0', '0', '0', '0', '0', '0', '0', '0', '0', '0', '0', '0', '0', '0', '0', '0', '0', '0', '0', '0', '0', '0', '0', '0', '0', '0', '0', '0', '0', '0', '0', '0', '0', '0', '0', '0', '0', '0', '0', '0', '0', '0', '0', '0', '0', '0', '0', '0', '0', '0', '0', '0', '0', '0', '0', '0', '0', '0', '0', '0', '0', '0', '0', '0', '0', '0', '0', '0', '0', '0', '0', '0', '0', '0', '0', '0', '0', '0', '0', '0', '0', '0', '0', '0', '0', '0', '0', '0', '0', '0', '0', '0', '0', '0', '0', '0', '0', '0', '0', '0', '0', '0', '0', '0', '0', '0', '0', '0', '0', '0', '0', '0', '0', '0', '0', '0', '0', '0', '0', '0', '0', '0', '0', '0', '0', '0', '2', '0', '0', '0', '0', '0', '0', '0', '0', '0', '0', '0', '0', '0', '0', '0', '0', '0', '0', '0', '0', '0', '0', '0', '0', '0', '0', '0', '0', '0', '0', '0', '0', '0', '0', '0', '0', '0', '0', '2', '0', '0', '0', '0', '0', '0', '0', '0', '0', '0', '0', '0', '0', '0', '0', '0', '0', '0', '0', '0', '0', '0', '2', '0', '0', '0', '0', '0', '0', '0', '0', '0', '0', '0', '0', '0', '0', '0', '0', '0', '0', '0', '0', '0', '0', '0', '0', '0', '0', '0', '0', '0', '0', '0', '0', '0', '0', '0', '0', '0', '0', '0', '0', '0', '0', '0', '0', '0', '0', '0', '0', '0', '0', '0', '0', '0', '0', '0', '0', '0', '0', '0', '0', '0', '0', '0', '0', '0', '0', '0', '0', '0', '0', '0', '0', '0', '0', '0', '0', '0', '0', '0', '0', '0', '0', '0', '0', '0', '0', '0', '0', '0', '0', '0', '0', '0', '0', '0', '0', '0', '0', '0', '0', '0', '0', '0', '0', '0', '0', '0', '0', '0', '0', '0', '0', '0', '0', '0', '0', '0', '0', '0', '0', '0', '0', '0', '0', '0', '0', '0', '0', '0', '0', '0', '0', '0', '0', '0', '0', '0', '0', '0', '0', '0', '0', '0', '0', '0', '0', '0', '0', '0', '0', '0', '0', '0', '0', '0', '0', '0', '0', '0', '0', '0', '0', '0', '0', '0', '0', '0', '0', '0', '0', '0', '0', '0', '0', '0', '0', '0', '0', '0', '0', '0', '0', '0', '0', '0', '0', '0', '0', '0', '0', '0', '0', '0', '0', '0', '0', '0', '0', '0', '0', '0', '0', '0', '0', '0', '0', '0', '0', '0', '0', '0', '0', '0', '0', '0', '0', '0', '0', '0', '0', '0', '0', '0', '0', '0', '0', '0', '0', '0', '0', '0', '0', '0', '0', '0', '0', '0', '0', '0', '0', '0', '0', '0', '0', '0', '0', '0', '0', '0', '0', '0', '0', '0', '0', '0', '0', '0', '0', '0', '0', '0', '0', '0', '0', '0', '0', '0', '0', '0', '0', '0', '0', '0', '0', '0', '0', '0', '0', '0', '0', '0', '0', '0', '0', '0', '0', '0', '0', '0', '0', '0', '0', '0', '0', '0', '0', '0', '0', '0', '0', '0', '0', '0', '0', '0', '0', '0', '0', '0', '0', '0', '0', '0', '0', '0', '0', '0', '0', '0', '0', '0', '0', '0', '0', '0', '0', '0', '0', '0', '2', '0', '0', '0', '0', '0', '0', '0', '0', '0', '0', '0', '0', '0', '0', '0', '0', '0', '0', '0', '0', '0', '0', '0', '0', '0', '0', '0', '0', '0', '0', '0', '0', '0', '0', '0', '0', '0', '0', '0', '0', '0', '0', '0', '0', '0', '0', '0', '0', '0', '2', '0', '0', '0', '0', '0', '0', '0', '0', '0', '0', '0', '0', '0', '0', '0', '0', '0', '0', '0', '0', '0', '0', '0', '0', '0', '0', '0', '0', '0', '0', '0', '0', '0', '0', '0', '0', '0', '0', '0', '0', '0', '0', '0', '0', '0', '0', '0', '0', '0', '0', '0', '0', '0', '0', '2', '0', '0', '0', '0', '0', '0', '0', '0', '0', '0', '0', '0', '0', '0', '0', '0', '0', '0', '0', '0', '0', '0', '0', '0', '0', '0', '0', '0', '0', '0', '0', '0', '0', '0', '0', '0', '0', '0', '0', '0', '0', '0', '0', '0', '0', '0', '0', '0', '0', '0', '0', '0', '0', '0', '0', '0', '0', '0', '0', '0', '0', '0', '0', '0', '0', '0', '0', '0', '0', '0', '0', '0', '0', '0', '0', '0', '0', '0', '0', '0', '0', '0', '0', '0', '0', '0', '0', '0', '0', '0', '0', '0', '0', '0', '0', '0', '0', '0', '0', '0', '0', '0', '0', '0', '0', '0', '0', '0', '0', '0', '0', '0', '0', '0', '0', '0', '0', '0', '2', '0', '0', '0', '0', '0', '0', '0', '0', '0', '0', '0', '0', '0', '0', '0', '0', '0', '0', '0', '0', '0', '0', '0', '0', '0', '0', '0', '0', '0', '0', '0', '0', '0', '0', '0', '0', '0', '0', '0', '0', '0', '0', '0', '0', '0', '0', '0', '0', '0', '0', '0', '0', '0', '0', '0', '0', '0', '0', '0', '0', '0', '0', '0', '0', '0', '0', '0', '0', '0', '0', '0', '0', '0', '0', '2', '0', '0', '0', '0', '0', '0', '0', '0', '0', '0', '0', '0', '0', '0', '0', '0', '0', '0', '0', '0', '0', '0', '0', '0', '0', '0', '0', '0', '0', '0', '0', '0', '0', '0', '0', '0', '0', '0', '0', '0', '0', '0', '0', '0', '0', '0', '0', '0', '0', '0', '0', '0', '0', '0', '0', '0', '0', '0', '0', '0', '0', '0', '0', '0', '0', '0', '0', '0', '0', '0', '0', '0', '0', '0', '0', '0', '0', '0', '0', '0', '0', '0', '0', '0', '0', '0', '0', '0', '0', '0', '0', '0', '0', '0', '0', '0', '0', '0', '0', '0', '0', '0', '0', '0', '0', '0', '0', '0', '0', '0', '0', '0', '0', '0', '0', '0', '0', '0', '0', '0', '0', '0', '0', '0', '0', '0', '0', '0', '0', '0', '0', '0', '0', '0', '0', '0', '0', '0', '0', '0', '0', '0', '0', '0', '0', '0', '0', '0', '0', '0', '0', '0', '0', '0', '0', '0', '0', '0', '0', '0', '0', '0', '0', '0', '0', '0', '0', '0', '0', '0', '0', '0', '0', '0', '0', '0', '0', '0', '0', '0', '4', '0', '0', '0', '0', '0', '0', '0', '0', '0', '0', '0', '0', '0', '0', '0', '0', '0', '0', '0', '0', '0', '0', '0', '0', '0', '0', '0', '2', '0', '0', '0', '0', '0', '0', '0', '0', '0', '0', '0', '0', '0', '0', '0', '0', '0', '0', '0', '0', '0', '0', '0', '0', '0', '0', '0', '0', '0', '0', '0', '0', '0', '0', '0', '0', '0', '0', '0', '0', '0', '0', '0', '0', '0', '0', '0', '0', '0', '0', '0', '0', '0', '0', '0', '0', '0', '0', '0', '0', '0', '0', '0', '0', '0', '0', '0', '0', '0', '0', '0', '0', '0', '0', '0', '0', '0', '0', '0', '0', '0', '0', '0', '0', '0', '0', '0', '0', '0', '0', '0', '0', '0', '0', '0', '0', '0', '0', '0', '0', '0', '0', '0', '0', '0', '0', '0', '0', '0', '0', '0', '0', '0', '0', '0', '0', '0', '0', '0', '0', '0', '0', '0', '0', '0', '0', '0', '0', '0', '0', '0', '0', '0', '0', '0', '0', '0', '0', '0', '0', '0', '0', '0', '0', '0', '0', '0', '0', '0', '0', '0', '0', '0', '0', '0', '0', '0', '0', '0', '0', '0', '0', '0', '0', '0', '0', '0', '0', '0', '0', '0', '0', '0', '0', '0', '0', '0', '0', '0', '0', '0', '0', '0', '0', '0', '0', '0', '0', '0', '0', '0', '0', '0', '0', '0', '0', '0', '0', '0', '0', '0', '0', '0', '0', '0', '0', '0', '0', '0', '0', '0', '0', '0', '0', '0', '2', '0', '0', '0', '0', '0', '0', '0', '0', '0', '0', '0', '0', '0', '0', '0', '0', '0', '0', '0', '0', '0', '0', '0', '0', '0', '0', '0', '0', '0', '0', '0', '0', '0', '0', '0', '0', '0', '0', '0', '0', '0', '0', '0', '0', '0', '0', '0', '0', '0', '0', '0', '0', '0', '0', '0', '0', '0', '0', '0', '0', '0', '0', '0', '0', '0', '0', '0', '0', '0', '0', '0', '0', '0', '0', '0', '0', '0', '0', '0', '0', '0', '0', '0', '0', '0', '0', '0', '0', '0', '0', '0', '0', '0', '0', '0', '0', '0', '0', '0', '0', '0', '0', '0', '0', '0', '0', '2', '0', '0', '0', '0', '0', '0', '0', '2', '0', '0', '0', '0', '0', '0', '0', '0', '0', '0', '0', '0', '0', '0', '0', '0', '0', '0', '0', '0', '0', '0', '0', '0', '0', '0', '0', '0', '0', '0', '0', '0', '0', '0', '0', '0', '0', '0', '0', '0', '0', '0', '0', '0', '0', '0', '0', '0', '0', '0', '0', '0', '0', '0', '0', '0', '0', '0', '0', '0', '0', '0', '0', '0', '0', '0', '0', '0', '0', '0', '0', '0', '0', '0', '0', '0', '0', '0', '0', '0', '0', '0', '0', '0', '0', '0', '0', '0', '0', '0', '0', '0', '0', '0', '0', '0', '0', '0', '0', '0', '0', '0', '0', '0', '0', '0', '0', '0', '0', '0', '0', '0', '0', '0', '0', '0', '0', '0', '0', '0', '0', '0', '0', '0', '0', '0', '0', '0', '0', '0', '0', '0', '0', '0', '0', '0', '0', '0', '0', '0', '0', '0', '0', '0', '0', '0', '0', '0', '0', '0', '0', '0', '0', '0', '0', '0', '0', '0', '0', '0', '0', '0', '0', '0', '0', '0', '0', '0', '0', '0', '0', '0', '0', '0', '0', '0', '0', '0', '0', '0', '0', '0', '0', '0', '0', '0', '0', '0', '0', '0', '0', '0', '0', '0', '0', '0', '0', '0', '0', '0', '0', '0', '0', '0', '0', '0', '0', '0', '0', '0', '0', '0', '0', '0', '0', '0', '0', '0', '0', '0', '0', '0', '0', '0', '0', '0', '0', '0', '0', '0', '0', '0', '0', '0', '0', '0', '0', '0', '0', '0', '0', '0', '0', '0', '0', '0', '0', '0', '0', '0', '0', '0', '0', '0', '0', '0', '0', '0', '0', '0', '0', '0', '0', '0', '0', '0', '0', '0', '0', '0', '0', '0', '0', '0', '0', '0', '0', '0', '0', '0', '0', '0', '0', '0', '0', '0', '0', '0', '0', '0', '0', '0', '0', '0', '0', '0', '0', '0', '0', '0', '0', '0', '0', '0', '0', '0', '0', '0', '0', '0', '0', '0', '0', '0', '0', '0', '0', '0', '0', '0', '0', '0', '0', '0', '0', '0', '0', '0', '0', '0', '0', '0', '0', '0', '0', '0', '0', '0', '0', '0', '0', '0', '0', '0', '0', '0', '0', '0', '0', '0', '0', '0', '0', '0', '0', '0', '0', '0', '0', '0', '0', '0', '0', '0', '0', '0', '0', '0', '0', '0', '0', '0', '0', '0', '0', '0', '0', '0', '0', '0', '0', '0', '0', '0', '0', '0', '0', '0', '0', '0', '0', '0', '0', '0', '0', '0', '0', '0', '0', '0', '0', '0', '0', '0', '0', '0', '0', '0', '0', '0', '0', '0', '0', '0', '0', '0', '0', '0', '0', '0', '0', '0', '0', '0', '0', '0', '0', '0', '0', '0', '0', '0', '0', '0', '0', '0', '0', '0', '0', '0', '0', '0', '0', '0', '0', '0', '0', '0', '0', '0', '0', '0', '0', '0', '0', '0', '0', '2', '0', '0', '0', '0', '0', '0', '0', '0', '0', '0', '0', '0', '0', '0', '0', '0', '0', '0', '0', '0', '0', '0', '0', '0', '0', '0', '0', '0', '0', '0', '0', '0', '0', '0', '0', '0', '0', '0', '0', '0', '0', '0', '0', '0', '0', '0', '0', '0', '0', '0', '0', '0', '0', '0', '2', '0', '0', '0', '0', '0', '0', '0', '0', '0', '0', '0', '0', '0', '0', '0', '0', '0', '0', '0', '0', '0', '0', '0', '0', '0', '0', '0', '0', '0', '0', '0', '0', '0', '0', '0', '0', '0', '0', '0', '0', '0', '0', '0', '0', '0', '0', '0', '0', '0', '0', '0', '0', '0', '0', '0', '0', '0', '0', '0', '0', '0', '0', '0', '0', '0', '0', '0', '0', '0', '0', '0', '0', '0', '0', '0', '0', '0', '0', '0', '0', '0', '0', '0', '0', '0', '0', '0', '0', '0', '0', '0', '0', '0', '0', '0', '0', '0', '0', '0', '0', '0', '0', '0', '0', '0', '0', '0', '0', '0', '0', '0', '0', '0', '0', '0', '0', '0', '0', '0', '0', '0', '0', '0', '0', '0', '0', '0', '0', '0', '0', '0', '0', '0', '0', '0', '0', '0', '0', '0', '0', '0', '0', '0', '0', '0', '0', '0', '0', '0', '0', '0', '0', '0', '0', '0', '0', '0', '0', '0', '0', '0', '0', '0', '0', '0', '0', '0', '0', '0', '0', '0', '0', '0', '0', '0', '0', '2', '0', '0', '0', '0', '0', '0', '0', '0', '0', '0', '0', '0', '0', '0', '0', '0', '2', '0', '0', '0', '0', '0', '0', '0', '0', '0', '0', '0', '0', '0', '0', '0', '0', '0', '0', '0', '0', '0', '0', '0', '0', '0', '2', '0', '0', '0', '0', '0', '0', '0', '0', '0', '0', '0', '0', '0', '0', '0', '0', '0', '0', '0', '0', '0', '0', '0', '0', '0', '0', '0', '0', '0', '0', '0', '0', '0', '0', '0', '0', '0', '0', '0', '0', '0', '0', '0', '0', '0', '0', '0', '0', '0', '0', '0', '0', '0', '0', '0', '0', '0', '0', '0', '0', '0', '0', '0', '0', '0', '0', '0', '0', '0', '0', '0', '0', '0', '0', '0', '0', '0', '0', '0', '0', '0', '0', '0', '0', '0', '0', '2', '0', '0', '0', '0', '0', '0', '0', '0', '0', '0', '0', '0', '0', '0', '0', '0', '0', '0', '0', '0', '0', '0', '0', '0', '0', '0', '0', '0', '0', '0', '0', '0', '0', '0', '0', '0', '0', '0', '0', '0', '0', '2', '0', '0', '0', '0', '0', '0', '0', '0', '0', '0', '0', '0', '0', '0', '0', '0', '0', '0', '0', '0', '0', '0', '0', '0', '0', '0', '0', '2', '0', '0', '0', '0', '0', '0', '0', '0', '0', '0', '0', '0', '0', '0', '0', '0', '0', '0', '0', '0', '0', '0', '0', '0', '0', '0', '0', '0', '0', '0', '0', '0', '0', '0', '0', '0', '0', '0', '0', '0', '0', '0', '0', '0', '0', '0', '0', '0', '0', '0', '0', '0', '0', '0', '0', '0', '0', '0', '0', '0', '0', '0', '0', '0', '0', '0', '0', '0', '0', '0', '0', '0', '0', '0', '0', '0', '0', '0', '0', '0', '0', '0', '0', '0', '0', '0', '0', '0', '0', '0', '2', '0', '0', '0', '0', '0', '0', '0', '0', '0', '0', '0', '0', '0', '0', '0', '0', '0', '0', '0', '0', '0', '0', '0', '0', '0', '0', '0', '0', '0', '0', '0', '0', '0', '0', '0', '0', '0', '0', '2', '0', '0', '0', '0', '0', '0', '0', '0', '0', '0', '0', '0', '0', '0', '0', '0', '0', '0', '0', '0', '0', '0', '0', '0', '0', '0', '0', '0', '0', '0', '0', '0', '0', '0', '0', '0', '0', '0', '0', '0', '0', '0', '0', '0', '0', '0', '0', '0', '0', '0', '0', '0', '0', '0', '0', '0', '0', '0', '0', '0', '0', '0', '0', '0', '0', '0', '0', '0', '0', '0', '0', '0', '0', '0', '0', '0', '0', '0', '0', '0', '0', '0', '0', '0', '0', '0', '0', '0', '0', '0', '0', '0', '0', '0', '0', '0', '0', '0', '0', '0', '0', '0', '0', '0', '0', '0', '0', '0', '0', '0', '0', '0', '0', '0', '0', '0', '0', '0', '0', '0', '0', '0', '0', '0', '0', '0', '0', '0', '0', '0', '0', '0', '0', '0', '0', '0', '0', '0', '0', '0', '0', '0', '0', '0', '0', '0', '0', '0', '0', '0', '0', '0', '0', '0', '0', '0', '0', '0', '0', '0', '0', '0', '0', '0', '0', '0', '0', '0', '0', '0', '0', '0', '0', '0', '0', '0', '0', '0', '0', '0', '0', '0', '0', '0', '0', '0', '0', '0', '0', '0', '0', '0', '0', '0', '0', '0', '0', '0', '0', '0', '0', '0', '0', '0', '0', '0', '0', '0', '0', '0', '0', '0', '0', '0', '0', '0', '0', '0', '0', '0', '0', '0', '0', '0', '0', '0', '0', '0', '0', '0', '0', '0', '0', '0', '0', '0', '0', '0', '0', '0', '0', '0', '0', '0', '0', '0', '0', '0', '0', '0', '0', '0', '0', '0', '0', '0', '0', '0', '0', '0', '0', '0', '0', '0', '0', '0', '0', '0', '0', '0', '0', '0', '0', '0', '0', '0', '0', '0', '0', '0', '0', '0', '0', '0', '0', '0', '0', '0', '0', '0', '0', '0', '0', '0', '0', '0', '0', '2', '0', '0', '0', '0', '0', '0', '0', '0', '0', '0', '0', '0', '0', '0', '0', '0', '0', '0', '0', '0', '0', '0', '0', '0', '0', '0', '0', '0', '0', '0', '0', '0', '0', '0', '0', '0', '0', '0', '0', '0', '0', '0', '0', '0', '0', '0', '0', '0', '0', '0', '0', '0', '0', '0', '0', '0', '0', '0', '0', '0', '0', '0', '0', '0', '0', '0', '0', '0', '0', '2', '0', '0', '0', '0', '0', '0', '0', '0', '0', '0', '0', '0', '0', '0', '0', '0', '0', '0', '0', '0', '0', '0', '0', '0', '0', '0', '0', '0', '0', '0', '0', '0', '0', '0', '0', '0', '0', '0', '0', '0', '0', '0', '0', '0', '0', '0', '0', '0', '0', '0', '0', '0', '0', '0', '0', '0', '0', '0', '0', '0', '0', '0', '0', '0', '0', '0', '0', '0', '0', '0', '0', '0', '0', '0', '0', '0', '0', '0', '0', '0', '0', '0', '0', '0', '0', '0', '0', '0', '0', '0', '0', '0', '0', '0', '0', '0', '0', '0', '0', '0', '0', '0', '0', '0', '0', '0', '0', '0', '0', '0', '0', '0', '0', '0', '0', '0', '0', '0', '0', '0', '0', '0', '0', '0', '0', '1', '2', '0', '1', '2', '0', '1', '1', '1', '2', '2', '2', '1', '2', '0', '2', '0', '0', '1', '0', '2', '0', '0', '1', '1', '0', '1', '1', '2', '1', '0', '1', '1', '0', '0', '2', '1', '0', '0', '1', '1', '1', '0', '1', '2', '0', '1', '0', '0', '0', '0', '1', '1', '1', '1', '3', '1', '1', '0', '0', '2', '1', '1', '1', '1', '1', '1', '2', '1', '1', '1', '2', '1', '2', '0', '1', '2', '1', '1', '1', '1', '1', '1', '2', '1', '0', '1', '1', '1', '2', '0', '2', '1', '1', '0', '1', '1', '0', '0', '1', '1', '1', '1', '0', '1', '1', '1', '1', '1', '0', '2', '0', '2', '1', '0', '0', '1', '1', '2', '2', '1', '1', '2', '2', '0', '1', '0', '0', '1', '1', '2', '0', '1', '0', '1', '1', '0', '0', '1', '1', '1', '1', '1', '2', '0', '1', '1', '1', '1', '2', '2', '1', '1', '2', '1', '0', '1', '2', '1', '1', '2', '0', '0', '1', '0', '1', '2', '1', '0', '0', '1', '1', '1', '1', '0', '1', '1', '2', '0', '0', '1', '1', '0', '2', '0', '0', '0', '1', '2', '2', '1', '1', '1', '1', '1', '2', '0', '0', '0', '1', '0', '2', '1', '1', '1', '1', '1', '2', '1', '1', '2', '1', '1', '2', '2', '0', '1', '2', '1', '1', '0', '0', '1', '0', '1', '0', '2', '1', '0', '1', '1', '0', '0', '1', '1', '2', '1', '0', '1', '1', '0', '1', '1', '1', '0', '1', '0', '1', '0', '0', '1', '1', '0', '0', '0', '1', '1', '1', '1', '0', '0', '1', '1', '0', '2', '1', '1', '1', '1', '0', '1', '0', '1', '2', '0', '2', '2', '0', '1', '0', '1', '1', '2', '2', '0', '1', '2', '1', '0', '1', '1', '1', '1', '1', '2', '0', '1', '2', '0', '1', '0', '1', '1', '1', '1', '0', '1', '0', '0', '1', '0', '1', '0', '0', '2', '1', '1', '0', '0', '0', '1', '0', '1', '1', '1', '0', '1', '1', '2', '0', '0', '0', '1', '1', '1', '1', '0', '1', '1', '0', '1', '1', '1', '2', '1', '1', '1', '2', '1', '1', '1', '0', '1', '1', '1', '0', '1', '1', '1', '1', '1', '0', '0', '1', '1', '1', '0', '0', '1', '1', '1', '1', '0', '2', '1', '2', '1', '2', '1', '1', '1', '1', '1', '0', '1', '1', '0', '1', '1', '2', '2', '1', '1', '2', '1', '2', '1', '1', '1', '1', '1', '0', '2', '1', '1', '1', '1', '1', '1', '1', '1', '1', '0', '1', '1', '1', '0', '0', '2', '1', '1', '0', '2', '0', '2', '1', '1', '2', '1', '2', '1', '2', '1', '0', '1', '1', '1', '1', '2', '2', '2', '0', '2', '0', '1', '1', '0', '0', '1', '1', '1', '2', '1', '0', '2', '1', '0', '1', '1', '0', '2', '1', '1', '1', '1', '2', '1', '0', '1', '2', '1', '1', '1', '0', '2', '2', '0', '1', '1', '0', '0', '0', '1', '1', '2', '1', '1', '1', '1', '0', '1', '0', '2', '1', '1', '2', '0', '0', '1', '1', '0', '1', '1', '1', '1', '1', '1', '2', '0', '1', '0', '0', '2', '1', '1', '0', '0', '0', '2', '1', '1', '2', '1', '1', '1', '1', '1', '1', '2', '0', '1', '2', '0', '2', '1', '1', '2', '1', '1', '1', '0', '1', '0', '1', '0', '1', '0', '2', '1', '1', '1', '0', '1', '1', '0', '1', '1', '0', '1', '2', '0', '2', '0', '2', '0', '2', '1', '1', '1', '1', '0', '2', '1', '0', '0', '2', '1', '0', '1', '1', '2', '0', '1', '1', '1', '1', '1', '0', '0', '1', '2', '1', '1', '0', '0', '2', '1', '1', '2', '2', '0', '1', '1', '2', '0', '0', '1', '0', '1', '1', '1', '0', '1', '0', '1', '0', '2', '0', '1', '1', '0', '1', '1', '2', '1', '2', '0', '1', '1', '1', '0', '1', '1', '2', '0', '1', '1', '1', '0', '1', '0', '0', '1', '1', '1', '2', '2', '1', '1', '0', '1', '1', '1', '1', '1', '0', '1', '1', '1', '1', '1', '1', '2', '0', '0', '1', '1', '1', '1', '1', '1', '1', '1', '1', '1', '0', '1', '0', '0', '1', '1', '2', '1', '1', '1', '2', '1', '0', '1', '2', '1', '0', '0', '0', '1', '1', '1', '1', '1', '1', '2', '1', '1', '1', '0', '2', '2', '1', '1', '1', '2', '0', '1', '2', '1', '0', '0', '0', '1', '0', '0', '1', '1', '1', '0', '1', '1', '0', '0', '1', '1', '1', '1', '1', '1', '1', '0', '0', '1', '2', '1', '2', '1', '1', '1', '1', '1', '1', '0', '0', '0', '2', '1', '2', '1', '0', '2', '1', '1', '2', '1', '0', '0', '1', '1', '2', '2', '0', '0', '2', '1', '2', '0', '0', '1', '2', '1', '0', '0', '2', '0', '1', '0', '1', '1', '1', '0', '1', '1', '2', '2', '1', '2', '1', '0', '1', '1', '2', '2', '1', '1', '1', '0', '1', '0', '1', '1', '1', '1', '0', '0', '1', '1', '1', '1', '0', '2', '2', '0', '1', '2', '0', '0', '1', '1', '1', '0', '0', '1', '0', '1', '1', '1', '1', '1', '1', '1', '1', '1', '1', '1', '1', '1', '1', '1', '0', '1', '1', '2', '2', '1', '1', '2', '1', '1', '1', '1', '2', '1', '1', '1', '0', '1', '1', '1', '1', '0', '1', '0', '0', '1', '1', '2', '0', '1', '0', '0', '0', '2', '2', '1', '0', '1', '1', '2', '2', '1', '1', '1', '0', '1', '2', '1', '1', '1', '0', '0', '0', '2', '1', '0', '1', '1', '1', '1', '2', '1', '2', '1', '1', '1', '2', '0', '2', '1', '0', '1', '0', '1', '1', '0', '1', '1', '0', '2', '1', '1', '2', '0', '1', '1', '0', '1', '1', '1', '1', '0', '1', '1', '0', '1', '1', '1', '0', '1', '1', '1', '4', '1', '0', '0', '2', '1', '2', '0', '2', '2', '1', '1', '0', '1', '0', '1', '2', '1', '1', '1', '1', '1', '2', '2', '0', '1', '1', '0', '1', '1', '2', '2', '1', '1', '1', '1', '1', '1', '1', '0', '0', '2', '2', '2', '1', '0', '1', '1', '1', '1', '1', '1', '1', '1', '1', '1', '1', '0', '1', '1', '1', '0', '1', '1', '1', '1', '1', '2', '1', '0', '1', '2', '1', '1', '2', '0', '0', '1', '2', '1', '0', '1', '2', '0', '1', '1', '0', '1', '1', '0', '0', '0', '1', '1', '3', '0', '1', '1', '1', '1', '0', '1', '1', '1', '1', '2', '1', '0', '2', '1', '1', '1', '1', '1', '1', '1', '1', '2', '1', '1', '0', '1', '1', '1', '1', '0', '0', '0', '1', '1', '1', '1', '2', '2', '0', '1', '3', '1', '0', '1', '1', '0', '0', '1', '1', '1', '2', '1', '2', '1', '1', '2', '1', '0', '0', '0', '0', '0', '0', '1', '2', '2', '1', '1', '2', '1', '0', '0', '2', '1', '0', '1', '2', '2', '2', '1', '0', '1', '1', '0', '0', '1', '1', '2', '1', '0', '1', '2', '2', '1', '2', '2', '1', '2', '1', '1', '1', '1', '0', '0', '1', '1', '1', '0', '0', '1', '2', '1', '1', '1', '1', '1', '1', '4', '1', '2', '1', '0', '1', '1', '1', '1', '0', '2', '1', '2', '1', '1', '0', '0', '1', '0', '1', '1', '0', '0', '0', '1', '1', '0', '2', '2', '0', '1', '1', '0', '1', '1', '1', '1', '1', '2', '2', '0', '0', '0', '0', '2', '2', '1', '1', '1', '0', '0', '2', '0', '1', '1', '1', '1', '1', '1', '1', '1', '1', '1', '0', '1', '1', '2', '1', '2', '1', '1', '1', '2', '0', '2', '0', '2', '1', '1', '1', '2', '0', '1', '2', '1', '1', '1', '1', '0', '1', '2', '1', '0', '1', '0', '0', '1', '1', '1', '1', '1', '0', '0', '0', '1', '1', '1', '1', '2', '1', '1', '1', '1', '1', '0', '2', '2', '1', '1', '1', '2', '0', '0', '0', '2', '1', '1', '1', '1', '1', '1', '1', '2', '0', '0', '1', '0', '1', '1', '0', '0', '0', '1', '2', '2', '1', '1', '1', '1', '0', '0', '1', '1', '2', '1', '1', '1', '2', '1', '1', '2', '0', '1', '1', '1', '1', '2', '1', '0', '2', '1', '0', '1', '1', '0', '0', '1', '0', '1', '1', '1', '1', '1', '2', '1', '1', '1', '1', '1', '1', '0', '0', '0', '0', '1', '0', '1', '1', '1', '1', '1', '1', '1', '1', '1', '1', '2', '0', '1', '2', '2', '0', '2', '1', '2', '0', '1', '1', '1', '1', '1', '1', '1', '1', '0', '0', '1', '0', '1', '1', '0', '0', '1', '1', '1', '0', '2', '0', '0', '1', '2', '0', '2', '1', '1', '1', '1', '1', '2', '2', '1', '0', '0', '2', '1', '1', '0', '1', '0', '1', '2', '1', '1', '1', '1', '1', '1', '1', '1', '2', '2', '0', '1', '1', '1', '0', '2', '2', '0', '1', '0', '1', '1', '1', '1', '0', '1', '1', '0', '0', '1', '1', '1', '1', '0', '0', '1', '1', '1', '1', '2', '2', '0', '1', '2', '0', '1', '2', '1', '2', '1', '0', '1', '1', '2', '0', '0', '3', '0', '1', '1', '1', '2', '0', '0', '0', '1', '1', '2', '1', '1', '1', '1', '0', '1', '2', '1', '1', '2', '0', '0', '0', '1', '1', '1', '0', '1', '2', '1', '1', '1', '1', '0', '0', '0', '1', '3', '1', '1', '2', '2', '1', '2', '0', '2', '1', '1', '1', '1', '1', '1', '1', '1', '2', '1', '0', '1', '0', '1', '1', '0', '1', '1', '0', '1', '2', '0', '1', '2', '1', '0', '1', '1', '0', '1', '2', '0', '1', '1', '1', '1', '0', '1', '1', '1', '1', '2', '1', '1', '2', '2', '1', '2', '2', '1', '1', '2', '1', '1', '1', '0', '1', '1', '0', '2', '1', '1', '1', '1', '1', '2', '1', '0']\n"
     ]
    }
   ],
   "source": [
    "# print(predict)"
   ]
  },
  {
   "cell_type": "code",
   "execution_count": 44,
   "metadata": {},
   "outputs": [
    {
     "name": "stdout",
     "output_type": "stream",
     "text": [
      "bagging的准确率是:0.7448\n"
     ]
    }
   ],
   "source": [
    "from sklearn.metrics import accuracy_score\n",
    "acc=accuracy_score(test_laels,predict)\n",
    "print('bagging的准确率是:%s'%acc)"
   ]
  },
  {
   "cell_type": "markdown",
   "metadata": {},
   "source": [
    "# 采用Add将各个模型的最后一层输出相加"
   ]
  },
  {
   "cell_type": "code",
   "execution_count": 52,
   "metadata": {},
   "outputs": [],
   "source": [
    "import keras\n",
    "from keras.models import Model,load_model\n",
    "from keras import Input\n",
    "from keras.layers import concatenate,Dense,Flatten,Dropout,Add\n",
    "from keras.preprocessing.image import  ImageDataGenerator\n",
    "import keras.callbacks as kcallbacks\n",
    "import os\n",
    "import math\n",
    "from keras.utils import plot_model\n",
    "from keras.callbacks import EarlyStopping, ReduceLROnPlateau, ModelCheckpoint, LearningRateScheduler\n",
    "from keras.optimizers import SGD\n",
    "import operator\n",
    "import numpy as np\n",
    "from PIL import Image\n",
    "from collections import defaultdict"
   ]
  },
  {
   "cell_type": "code",
   "execution_count": 53,
   "metadata": {},
   "outputs": [
    {
     "name": "stdout",
     "output_type": "stream",
     "text": [
      "Found 49658 images belonging to 5 classes.\n",
      "Found 10000 images belonging to 5 classes.\n"
     ]
    }
   ],
   "source": [
    "###########配置的文件####################\n",
    "TARGET_SIZE=(512,512)\n",
    "INPUT_SIZE=(512,512,3)\n",
    "BATCHSIZE=16\n",
    "##################################\n",
    "train_datagen = ImageDataGenerator(rescale=1./255)\n",
    "\n",
    "test_datagen = ImageDataGenerator(rescale=1./255)\n",
    "\n",
    "train_generator = train_datagen.flow_from_directory(\n",
    "        './train/',\n",
    "        target_size=TARGET_SIZE,\n",
    "        batch_size=BATCHSIZE,\n",
    "        class_mode='categorical')\n",
    "validation_generator = test_datagen.flow_from_directory(\n",
    "        './test/',\n",
    "        target_size=TARGET_SIZE,\n",
    "        batch_size=BATCHSIZE,\n",
    "        class_mode='categorical')"
   ]
  },
  {
   "cell_type": "code",
   "execution_count": 54,
   "metadata": {},
   "outputs": [],
   "source": [
    "#载入自己的模型\n",
    "my_model=load_model('./mymodel.h5')\n",
    "#载入训练好的inceptionv3\n",
    "inception_model=load_model('./inception.h5')\n",
    "#载入训练好的resnet-50\n",
    "resnet_model=load_model('./resnet.h5')"
   ]
  },
  {
   "cell_type": "code",
   "execution_count": 62,
   "metadata": {},
   "outputs": [],
   "source": [
    "mapdict=train_generator.class_indices\n",
    "mapdict={v: k for k, v in mapdict.items()}"
   ]
  },
  {
   "cell_type": "code",
   "execution_count": 61,
   "metadata": {},
   "outputs": [],
   "source": [
    "img=Input(shape=(512,512,3),name='img')\n",
    "feature1=my_model(img)\n",
    "feature2=inception_model(img)\n",
    "feature3=resnet_model(img)\n",
    "for layer in my_model.layers:  \n",
    "    layer.trainable = False \n",
    "for layer in inception_model.layers:  \n",
    "    layer.trainable = False  \n",
    "for layer in resnet_model.layers:  \n",
    "    layer.trainable = False \n",
    "output=Add()([feature1,feature2,feature3])\n",
    "#feature都是五维度\n",
    "\n",
    "model=Model(inputs=img,outputs=output)\n",
    "plot_model(model=model,to_file='./Add.jpg')\n",
    "#定义一下优化的方法\n",
    "opt = keras.optimizers.Adam(lr=0.001, beta_1=0.9, beta_2=0.999, epsilon=1e-08)\n",
    "model.compile(loss='categorical_crossentropy',\n",
    "              optimizer=opt,\n",
    "              metrics=['accuracy'])"
   ]
  },
  {
   "cell_type": "code",
   "execution_count": 56,
   "metadata": {},
   "outputs": [],
   "source": [
    "rootdir = './test/'\n",
    "test_laels = []\n",
    "test_images=[]\n",
    "for subdir, dirs, files in os.walk(rootdir):\n",
    "    for file in files:\n",
    "        if not file.endswith(\".jpeg\"):\n",
    "            continue\n",
    "        test_laels.append(subdir.split('/')[-1])\n",
    "        test_images.append(os.path.join(subdir, file))"
   ]
  },
  {
   "cell_type": "code",
   "execution_count": 58,
   "metadata": {},
   "outputs": [],
   "source": [
    "predict=[]\n",
    "length=len(test_images)\n",
    "for i in range((length//64)+1):\n",
    "    inputimg=test_images[64*i:64*(i+1)]\n",
    "    test_batch=[]\n",
    "    for path in inputimg:\n",
    "        thisimg=np.array(Image.open(path))/255\n",
    "        test_batch.append(thisimg)\n",
    "    # my_model预测出结果  三个的\n",
    "    model_batch=model.predict(np.array(test_batch))\n",
    "    predict_batch=list(np.argmax(model_batch,axis=1))\n",
    "    predict_batch=[mapdict[con] for con in predict_batch]\n",
    "    predict.append(predict_batch)"
   ]
  },
  {
   "cell_type": "code",
   "execution_count": 59,
   "metadata": {},
   "outputs": [],
   "source": [
    "predict=sum(predict,[])"
   ]
  },
  {
   "cell_type": "code",
   "execution_count": 60,
   "metadata": {},
   "outputs": [
    {
     "name": "stdout",
     "output_type": "stream",
     "text": [
      "Add的准确率是:0.7571\n"
     ]
    }
   ],
   "source": [
    "from sklearn.metrics import accuracy_score\n",
    "acc=accuracy_score(test_laels,predict)\n",
    "print('Add的准确率是:%s'%acc)"
   ]
  }
 ],
 "metadata": {
  "kernelspec": {
   "display_name": "Python 3",
   "language": "python",
   "name": "python3"
  },
  "language_info": {
   "codemirror_mode": {
    "name": "ipython",
    "version": 3
   },
   "file_extension": ".py",
   "mimetype": "text/x-python",
   "name": "python",
   "nbconvert_exporter": "python",
   "pygments_lexer": "ipython3",
   "version": "3.6.5"
  }
 },
 "nbformat": 4,
 "nbformat_minor": 2
}
